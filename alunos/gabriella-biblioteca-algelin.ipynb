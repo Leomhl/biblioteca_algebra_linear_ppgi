{
 "cells": [
  {
   "cell_type": "code",
   "execution_count": 1,
   "metadata": {},
   "outputs": [],
   "source": [
    "#-----------------------------------------------------------------------------------\n",
    "#Funções a serem implementadas:\n",
    "#Triangular - verificar se uma dada matriz é triangular\n",
    "#Ortogonal - verificar se uma dada matriz é ortogonal\n",
    "#Ortonormal - verificar se um dado conjunto de vetores forma base ortonormal\n",
    "#Substituição reversa - para solução de sistemas de equações lineares\n",
    "#Pseudo inversa - utilizando decomposição svd\n",
    "#SVD - decomposição (para poder fazer pseudo inversa)\n",
    "#-----------------------------------------------------------------------------------"
   ]
  },
  {
   "cell_type": "code",
   "execution_count": 1,
   "metadata": {},
   "outputs": [
    {
     "data": {
      "text/plain": [
       "4×4 Array{Float64,2}:\n",
       " -1.0    0.0    0.0    0.0\n",
       "  0.25  -1.0    0.0    0.0\n",
       "  0.25   0.0   -1.0    0.0\n",
       "  0.0    0.25   0.25  -1.0"
      ]
     },
     "execution_count": 1,
     "metadata": {},
     "output_type": "execute_result"
    }
   ],
   "source": [
    "using LinearAlgebra\n",
    "\n",
    "#matrizes para testes\n",
    "notTriangularMatrix = [-1 1/4 1/4 0;\n",
    "                        1/4 -1 0 1/4;\n",
    "                        1/4 0 -1 1/4;\n",
    "                        0 1/4 1/4 -1]\n",
    "\n",
    "upperTriangularMatrix = [-1 1/4 1/4 0;\n",
    "                        0 -1 -1 1/4;\n",
    "                        0 0 1/4 1/4;\n",
    "                        0 0 0 -1]\n",
    "\n",
    "lowerTriangularMatrix = [-1 0 0 0;\n",
    "                        1/4 -1 0 0;\n",
    "                        1/4 0 -1 0;\n",
    "                        0 1/4 1/4 -1]\n",
    "\n"
   ]
  },
  {
   "cell_type": "code",
   "execution_count": 2,
   "metadata": {},
   "outputs": [
    {
     "data": {
      "text/plain": [
       "is_triangular (generic function with 2 methods)"
      ]
     },
     "execution_count": 2,
     "metadata": {},
     "output_type": "execute_result"
    }
   ],
   "source": [
    "#-----------------------------------------------------------------------------------\n",
    "#Triangular - verificar se uma dada matriz é triangular\n",
    "#Notr que ser triangular (inferior ou superior) é uma propridade de matrizes quadradas\n",
    "#portanto, devemos primeiramente verificar se o input é uma matriz quadrada\n",
    "#para então olhar suas entradas e caracteriza-la como triangular ou não\n",
    "#uma matriz é triangular superior se todas as entradas abaixo da diagonal são 0\n",
    "#é chamada triangular inferior se todas as entradas acima da diagonal são 0.\n",
    "\n",
    "#Entrada: matriz, se teste é para superior/inferior (default é superior, para inferior usar false em upper)\n",
    "#Etapa 1: verifica se é matriz (senão retorna erro); \n",
    "#Etapa 2: verifica se matriz é quadrada (senão retorna erro);\n",
    "#Etapa 3: olha elementos abaixo ou acima da diagonal para determinar se é triangular ou não\n",
    "#Saída: True (é triangular) ou False ( não é triangular)\n",
    "\n",
    "function is_triangular(matrix, upper = true)\n",
    "\n",
    "    #checamos se a entrada de fato é uma matriz\n",
    "    if isa(matrix, Array{Float64,2}) == true  || isa(matrix, Array{Int64,2}) == true\n",
    "        #checamos se é quadrada \n",
    "        numberOfLines, numberOfColumns = size(matrix)\n",
    "        if numberOfLines == numberOfColumns \n",
    "            #se queremos testar se é triangular superior\n",
    "            if upper == true \n",
    "                #checamos se os elementos abaixo da diagonal sao 0 (a_ij i>j)\n",
    "                for line in 2:numberOfLines\n",
    "                    for column in 1:line-1 \n",
    "                        if matrix[line,column] == 0 \n",
    "                            continue\n",
    "                        else \n",
    "                            #se algum elemento abaixo da diagonal não for 0, nao é triangular superior\n",
    "                            return false \n",
    "                        end\n",
    "                    end\n",
    "                end\n",
    "            #se queremos testar se é triangular inferior\n",
    "            elseif upper == false \n",
    "                #checamos se os elementos acima da diagonal sao 0 (a_ij i<j)\n",
    "                for line in 1:numberOfLines-1 \n",
    "                    for column in line+1:numberOfColumns \n",
    "                        if matrix[line,column] == 0 \n",
    "                            continue\n",
    "                        else \n",
    "                            #se algum elemento acima da diagonal não for 0, nao é triangular inferior\n",
    "                            return false \n",
    "                        end\n",
    "                    end\n",
    "                end\n",
    "            else \n",
    "                #se o parametro upper nao for true nem false retornamos erro\n",
    "                throw(ArgumentError(\" 'upper' parameter should be true or false\"))\n",
    "            end\n",
    "        else \n",
    "            #retornarmos erro se matriz não for quadrada\n",
    "            throw(ArgumentError(\" 'matrix' parameter should be a SQUARE matrix\"))\n",
    "        end\n",
    "    \n",
    "    else \n",
    "        #retornamos erro se input nao for array\n",
    "        throw(ArgumentError(\"'matrix' parameter should be a matrix\")) \n",
    "    end    \n",
    "    #se chegamos até aqui, é pq a bendita é triangular\n",
    "    return true       \n",
    "end\n",
    "\n"
   ]
  },
  {
   "cell_type": "code",
   "execution_count": 5,
   "metadata": {},
   "outputs": [
    {
     "data": {
      "text/plain": [
       "true"
      ]
     },
     "execution_count": 5,
     "metadata": {},
     "output_type": "execute_result"
    }
   ],
   "source": [
    "#teste\n",
    "is_triangular(upperTriangularMatrix)"
   ]
  },
  {
   "cell_type": "code",
   "execution_count": 4,
   "metadata": {},
   "outputs": [
    {
     "data": {
      "text/plain": [
       "transpose (generic function with 1 method)"
      ]
     },
     "execution_count": 4,
     "metadata": {},
     "output_type": "execute_result"
    }
   ],
   "source": [
    "#-----------------------------------------------------------------------------------\n",
    "#Transposta \n",
    "#matriz tal que o elemento a_ij é igual ao elemento a_ji da matriz original\n",
    "#necessária para verificar ortogonalidade\n",
    "\n",
    "#Entrada: matriz (qualquer tamanho)\n",
    "#Etapa 1: verificar se é matriz (senão retorna erro)\n",
    "#Etapa 2: construir matriz transposta vazia com dimensoes corretas\n",
    "#Etapa 3: popula matriz transposta onde o novo elemento a_ij é igual ao elemento a_ji da matriz original\n",
    "#Saída: matriz (transposta)\n",
    "\n",
    "function transpose(matrix)\n",
    "    #checa se input é matriz\n",
    "    if isa(matrix, Array{Float64,2}) == true  || isa(matrix, Array{Int64,2}) == true\n",
    "        #checa se input é matriz quadrada\n",
    "        numberOfLines, numberOfColumns = size(matrix)\n",
    "        if numberOfLines == numberOfColumns\n",
    "            #cria matriz transposta vazia com dimensoes corretas para popularmos depois\n",
    "            transpose = zeros(numberOfColumns, numberOfLines)\n",
    "            #o elemento a_ij da nova matriz sera o a_ji da original\n",
    "            for line in 1:numberOfColumns \n",
    "                for column in 1:numberOfLines\n",
    "                    transpose[line,column] = matrix[column,line]\n",
    "                end\n",
    "            end    \n",
    "        else\n",
    "            #retorna erro se matriz nao e quadrada\n",
    "            throw(ArgumentError(\" 'matrix' parameter should be a SQUARE matrix\"))\n",
    "        end\n",
    "    else\n",
    "        #retorna erro se input não é array\n",
    "        throw(ArgumentError(\"'matrix' parameter should be a matrix\"))\n",
    "    end\n",
    "    return transpose \n",
    "end"
   ]
  },
  {
   "cell_type": "code",
   "execution_count": 6,
   "metadata": {},
   "outputs": [
    {
     "data": {
      "text/plain": [
       "4×4 Array{Float64,2}:\n",
       " -1.0    0.0   0.0    0.0\n",
       "  0.25  -1.0   0.0    0.0\n",
       "  0.25  -1.0   0.25   0.0\n",
       "  0.0    0.25  0.25  -1.0"
      ]
     },
     "execution_count": 6,
     "metadata": {},
     "output_type": "execute_result"
    }
   ],
   "source": [
    "#teste\n",
    "#is_triangular(transpose(upperTriangularMatrix))\n",
    "transpose(upperTriangularMatrix)"
   ]
  },
  {
   "cell_type": "code",
   "execution_count": null,
   "metadata": {},
   "outputs": [],
   "source": [
    "#-----------------------------------------------------------------------------------\n",
    "#Identidade - construir uma matriz identidade com o tamanho desejado\n",
    "#identidade é propriedade de matrizes quadradas\n",
    "#matriz identidade tem elementos da diagonal iguais a 1 e o resto igual a 0\n",
    "#necessaria para verificar ortogonalidade\n",
    "\n",
    "#Entrada: dimensao\n",
    "#Etapa 1: construir matriz de zeros com dimensao nxn\n",
    "#Etapa 2: popular elementos da diagonal com 1\n",
    "#Saída: matriz  (identidade)"
   ]
  },
  {
   "cell_type": "code",
   "execution_count": 7,
   "metadata": {},
   "outputs": [
    {
     "data": {
      "text/plain": [
       "orthogonal (generic function with 1 method)"
      ]
     },
     "execution_count": 7,
     "metadata": {},
     "output_type": "execute_result"
    }
   ],
   "source": [
    "#-----------------------------------------------------------------------------------\n",
    "#Ortogonal - verificar se uma matriz é ortogonal\n",
    "#Note que ser ortogonal é uma propriedade de matrizes quadradas\n",
    "#portanto, a matriz do input deverá ser quadrada\n",
    "#Uma matriz é ortogonal quando suas linhas e colunas são vetores ortogonais\n",
    "#outra forma de saber é se a transposta vezes a matriz é igual identidade\n",
    "#iremos utilizar a funcao prod_mat_rec para o produto das matrizes\n",
    "\n",
    "#Entrada: matriz\n",
    "#Etapa 1: verifica se entrada é matriz quadrada, senao retorna erro\n",
    "#Etapa 2: calcula transposta da matriz\n",
    "#Etapa 3: multiplica transposta pela matriz original e verifica se deu identidade\n",
    "#Saída: true(é ortogonal) ou false(não é ortogonal)\n",
    "\n",
    "function orthogonal(matrix)\n",
    "     #checa se input é matriz\n",
    "    if isa(matrix, Array{Float64,2}) == true  || isa(matrix, Array{Int64,2}) == true\n",
    "        #checa se input é matriz quadrada\n",
    "        numberOfLines, numberOfColumns = size(matrix)\n",
    "        if numberOfLines == numberOfColumns\n",
    "            transposta = transpose(matrix)\n",
    "            #se matrix^T * matriz = Id, é ortogonal\n",
    "            if transposta*matrix == I\n",
    "                return true\n",
    "            else\n",
    "                return false\n",
    "            end\n",
    "        else\n",
    "            #retorna erro se matriz nao e quadrada\n",
    "            throw(ArgumentError(\" 'matrix' parameter should be a SQUARE matrix\"))\n",
    "        end\n",
    "    else\n",
    "        #retorna erro se input não é array\n",
    "        throw(ArgumentError(\"'matrix' parameter should be a matrix\"))\n",
    "    end\n",
    "end\n"
   ]
  },
  {
   "cell_type": "code",
   "execution_count": 8,
   "metadata": {},
   "outputs": [
    {
     "data": {
      "text/plain": [
       "true"
      ]
     },
     "execution_count": 8,
     "metadata": {},
     "output_type": "execute_result"
    }
   ],
   "source": [
    "#teste\n",
    "orthogonal([1 0; 0 1])"
   ]
  },
  {
   "cell_type": "code",
   "execution_count": 9,
   "metadata": {},
   "outputs": [
    {
     "data": {
      "text/plain": [
       "orthonormal_base (generic function with 1 method)"
      ]
     },
     "execution_count": 9,
     "metadata": {},
     "output_type": "execute_result"
    }
   ],
   "source": [
    "#-----------------------------------------------------------------------------------\n",
    "#Ortonormal - verificar se um dado conjunto de vetores forma base ortonormal\n",
    "#um conjunto de vetores forma base ortonormal se cada par de vetores é ortogonal entre si\n",
    "#e o comprimento de cada vetor é 1\n",
    "#como existe a funcao dois_vetores_ortogonais que avalia se dois vetores sao ortogonais\n",
    "#ja implementada, iremos utiliza-la\n",
    "#tambem iremos utilizar a funcao norma (para verificar o comprimento)\n",
    "\n",
    "#Entrada: conjunto de vetores\n",
    "#Etapa 1: verificar se entrada saõ vetores do mesmo tamanho, senao retorna erro\n",
    "#Etapa 2; verifica se comprimento dos vetores é 1, senao retorna false\n",
    "#Etapa 2: faz pares de vetores\n",
    "#Etapa 3: verifica se os pares sao ortogonais, senao retorna false\n",
    "#Saida; true(é base ortonormal) ou false (nao é base ortonormal)\n",
    "\n",
    "function orthonormal_base(set_of_vectors)\n",
    "    #checando se o conjunto esta em forma de array\n",
    "    if isa(set_of_vectors,Array) == true\n",
    "        #pega tamanho do primeiro vetor, iremos comparar com o resto\n",
    "        numberOfLines, numberOfColumns = size(set_of_vectors[1])\n",
    "        #alguma das dimensoes precisa ser 1, senao nao é vetor...\n",
    "        if numberOfLines != 1 && numberOfColumns != 1\n",
    "            #se nenhuma for 1, retorna erro\n",
    "            throw(ArgumentError(\"elements of set_of_vectors should be vectors (dimensions 1xn or nx1)\"))\n",
    "        else\n",
    "            #para cada vetor, ele deve ter o mesmo tamanho do primeiro e comprimento 1\n",
    "            for vector in set_of_vectors\n",
    "                if numberOfLines == size(vector)[1] && numberOfColumns == size(vector)[2] && \n",
    "                    norm(vector) <= 1.001 && norm(vector) >= 0.999\n",
    "                    continue\n",
    "                else\n",
    "                    return false\n",
    "                #cada par de vetor devera ser ortogonal entre si\n",
    "                for vector2 in set_of_vectors\n",
    "                    #if dois_vetores_ortogonais(vector,vector2) == true\n",
    "                    if dot(vector,vector2) == 0   \n",
    "                        continue\n",
    "                    else\n",
    "                        return false     \n",
    "                    end\n",
    "                end\n",
    "                end\n",
    "            end\n",
    "        end\n",
    "    else \n",
    "        #retorna erro se entrada nao for array\n",
    "        throw(ArgumentError(\" 'set_of_vectors' parameter should be an array\"))\n",
    "    end\n",
    "    #se chegamos ate aqui, é pq a base é ortonormal\n",
    "    return true\n",
    "end"
   ]
  },
  {
   "cell_type": "code",
   "execution_count": 10,
   "metadata": {},
   "outputs": [
    {
     "data": {
      "text/plain": [
       "3-element Array{Array{Float64,2},1}:\n",
       " [0.7071067811865475 0.0 -0.7071067811865475]\n",
       " [0.5 0.7071067811865476 0.5]\n",
       " [0.5 -0.7071067811865476 0.5]"
      ]
     },
     "execution_count": 10,
     "metadata": {},
     "output_type": "execute_result"
    }
   ],
   "source": [
    "#teste para base ortonormal\n",
    "set_of_vectors = [[1/sqrt(2) 0 -1/sqrt(2)], [1/2 sqrt(2)/2 1/2], [1/2 -sqrt(2)/2 1/2]]"
   ]
  },
  {
   "cell_type": "code",
   "execution_count": 11,
   "metadata": {},
   "outputs": [
    {
     "data": {
      "text/plain": [
       "true"
      ]
     },
     "execution_count": 11,
     "metadata": {},
     "output_type": "execute_result"
    }
   ],
   "source": [
    "#teste\n",
    "orthonormal_base([[1/sqrt(2) 0 -1/sqrt(2)], [1/2 sqrt(2)/2 1/2], [1/2 -sqrt(2)/2 1/2]])"
   ]
  },
  {
   "cell_type": "code",
   "execution_count": 16,
   "metadata": {},
   "outputs": [
    {
     "data": {
      "text/plain": [
       "substitution (generic function with 1 method)"
      ]
     },
     "execution_count": 16,
     "metadata": {},
     "output_type": "execute_result"
    }
   ],
   "source": [
    "#-----------------------------------------------------------------------------------\n",
    "#Substituição - solucionar sistemas de equaçoes lineares Ax=b \n",
    "#a matriz devera ser quadrada e triangular\n",
    "\n",
    "#Entrada: matriz quadrada A e vetor b\n",
    "#Etapa 1: verificar se matriz é quadrada nxn vetor tem dimensao correta nx1\n",
    "#Etapa 2: verificar se matriz é triangular superior ou inferior\n",
    "#Etapa 3: substituiçao\n",
    "#Saida: vetor x - solucao do sistema linear\n",
    "\n",
    "function substitution(matrix,vector) \n",
    "    #checa se input é matriz\n",
    "    if isa(matrix, Array{Float64,2}) == true  || isa(matrix, Array{Int64,2}) == true\n",
    "        #Se não for quadrada nxn ou vetor nao tiver dimensao correta nx1 retorna erro\n",
    "        numberOfLines,numberOfColumns = size(matrix)\n",
    "        if numberOfLines != numberOfColumns || numberOfLines != size(vector)[1] || 1 != size(vector)[2]\n",
    "            throw(ArgumentError(\"'matrix' parameter should be a nxn square matrix and \n",
    "                    'vector' should be a nx1 array\"))\n",
    "        end\n",
    "        #caso matriz seja triangular inferior\n",
    "        if is_triangular(matrix,false) == true  \n",
    "            #susbtituicao!\n",
    "            x = zeros(numberOfLines)\n",
    "            x[1] = vector[1]/matrix[1,1]\n",
    "            for i in 2:numberOfLines \n",
    "            x[i] = (vector[i]- sum(matrix[i,j]*x[j] for j in 1:i-1))/matrix[i,i]\n",
    "                        end \n",
    "            return x\n",
    "        #Caso matriz for triangular superior\n",
    "        elseif is_triangular(matrix,true) == true\n",
    "                #substituicao!\n",
    "                x = zeros(numberOfLines) \n",
    "                x[numberOfLines] = vector[numberOfLines]/matrix[numberOfLines,numberOfColumns]\n",
    "                for i in numberOfLines-1:-1:1\n",
    "                    x[i] = (vector[i]- sum(matrix[i,j]*x[j] for j in i+1:n))/matrix[i,i]\n",
    "                                end            \n",
    "                return x\n",
    "         #retorna erro se input não é array\n",
    "        throw(ArgumentError(\"'matrix' parameter should be a matrix\"))\n",
    "        end\n",
    "    end\n",
    "end "
   ]
  },
  {
   "cell_type": "code",
   "execution_count": 20,
   "metadata": {},
   "outputs": [
    {
     "name": "stdout",
     "output_type": "stream",
     "text": [
      "[-0.11465635752363025, -1.6382651699618214, 1.138594042424613][-0.11465635752363025; -1.6382651699618214; 1.1385940424246128]"
     ]
    }
   ],
   "source": [
    "#teste\n",
    "b = randn(3,1)\n",
    "A = [1.0      0.0      0.0;\n",
    " 2.12374  1.0      0.0;\n",
    " 1.20021  1.04731  1.0]\n",
    "\n",
    "print(A*substitution(A,b), b)\n"
   ]
  }
 ],
 "metadata": {
  "kernelspec": {
   "display_name": "Julia 1.5.1",
   "language": "julia",
   "name": "julia-1.5"
  },
  "language_info": {
   "file_extension": ".jl",
   "mimetype": "application/julia",
   "name": "julia",
   "version": "1.5.1"
  }
 },
 "nbformat": 4,
 "nbformat_minor": 4
}
