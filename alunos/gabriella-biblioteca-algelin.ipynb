{
 "cells": [
  {
   "cell_type": "code",
   "execution_count": 1,
   "metadata": {},
   "outputs": [],
   "source": [
    "#******************************************************************************************\n",
    "#Funções a serem implementadas:\n",
    "#Triangular - verificar se uma dada matriz é triangular\n",
    "#Ortogonal - verificar se uma dada matriz é ortogonal\n",
    "#Ortonormal - verificar se um dado conjunto de vetores forma base ortonormal\n",
    "#Substituição reversa - para solução de sistemas de equações lineares\n",
    "#Pseudo inversa - utilizando decomposição svd\n",
    "#SVD - decomposição (para poder fazer pseudo inversa)\n",
    "#------------------------------------------------------------------------------------------"
   ]
  },
  {
   "cell_type": "markdown",
   "metadata": {},
   "source": [
    "# FUNÇÕES"
   ]
  },
  {
   "cell_type": "code",
   "execution_count": 32,
   "metadata": {},
   "outputs": [
    {
     "data": {
      "text/plain": [
       "e_triangular (generic function with 2 methods)"
      ]
     },
     "execution_count": 32,
     "metadata": {},
     "output_type": "execute_result"
    }
   ],
   "source": [
    "#******************************************************************************************\n",
    "#MATRIZ TRIANGULAR - verificar se uma dada matriz é triangular\n",
    "#é chamada triangular inferior se todas as entradas acima da diagonal principal são 0.\n",
    "#é chamada triangular superior se todas as entradas abaixo da diagonal principal são 0\n",
    "\n",
    "#Entrada: matriz, se teste é para superior/inferior (default é superior, para inferior usar false em upper)\n",
    "#Etapa 1: transforma entrada em array (caso seja de outro tipo); \n",
    "#Etapa 2: olha elementos abaixo ou acima da diagonal principal para determinar se é triangular ou não\n",
    "#Saída: True (é triangular) ou False ( não é triangular)\n",
    "#------------------------------------------------------------------------------------------\n",
    "\n",
    "function e_triangular(matriz, superior = true)\n",
    "\n",
    "    #Transformamos entrada em array\n",
    "    matriz = Array(matriz)\n",
    "        #pegamos dimensoes da matriz\n",
    "        numeroDeLinhas, numeroDeColunas = size(matriz)\n",
    "            #se queremos testar se é triangular superior\n",
    "            if superior == true \n",
    "                #checamos se os elementos abaixo da diagonal sao 0 (a_ij i>j)\n",
    "                for linha = 2:numeroDeLinhas, coluna = 1:linha-1 \n",
    "                        #se algum elemento abaixo da diagonal não for 0, nao é triangular superior\n",
    "                        if matriz[linha,coluna] != 0 \n",
    "                            return false \n",
    "                        end\n",
    "                end\n",
    "            #se queremos testar se é triangular inferior\n",
    "            elseif superior == false \n",
    "                #checamos se os elementos acima da diagonal sao 0 (a_ij i<j)\n",
    "                for linha = 1:numeroDeLinhas-1, coluna = linha+1:numeroDeColunas \n",
    "                        #se algum elemento acima da diagonal não for 0, nao é triangular inferior\n",
    "                        if matriz[linha,coluna] != 0 \n",
    "                            return false \n",
    "                        end\n",
    "                end\n",
    "            else \n",
    "                #se o parametro upper nao for true nem false retornamos erro\n",
    "                #so vai retornar esse erro se o parametro superior for uma outra variavel definida \n",
    "                #que nao seja true ou false\n",
    "                throw(ArgumentError(\"Parâmetro 'superior' deve ser true ou false. Para testar se é\n",
    "                é triangular inferior, utilizar false.\"))\n",
    "            end  \n",
    "    #se chegamos até aqui, é pq a bendita é triangular\n",
    "    return true       \n",
    "end\n",
    "\n"
   ]
  },
  {
   "cell_type": "code",
   "execution_count": 43,
   "metadata": {},
   "outputs": [
    {
     "data": {
      "text/plain": [
       "transposta (generic function with 1 method)"
      ]
     },
     "execution_count": 43,
     "metadata": {},
     "output_type": "execute_result"
    }
   ],
   "source": [
    "#******************************************************************************************\n",
    "# MATRIZ TRANSPOSTA\n",
    "#matriz tal que o elemento a_ij é igual ao elemento a_ji da matriz original\n",
    "#necessária para verificar ortogonalidade\n",
    "\n",
    "#Entrada: matriz (qualquer tamanho)\n",
    "#Etapa 1: transforma entrada em array\n",
    "#Etapa 2: construir matriz transposta vazia com dimensoes corretas\n",
    "#Etapa 3: popula matriz transposta onde o novo elemento a_ij é igual ao elemento a_ji da matriz original\n",
    "#Saída: matriz (transposta)\n",
    "#------------------------------------------------------------------------------------------\n",
    "\n",
    "function transposta(matriz)\n",
    "    \n",
    "    #trasnforma entrada em array\n",
    "    matriz = Array(matriz)\n",
    "    #dimensoes da matriz\n",
    "    numeroDeLinhas, numeroDeColunas = size(matriz)\n",
    "    #cria matriz transposta vazia com dimensoes corretas para popularmos depois\n",
    "    matrizTransposta = zeros(numeroDeColunas, numeroDeLinhas)\n",
    "    #o elemento a_ij da nova matriz sera o a_ji da original\n",
    "    for linha = 1:numeroDeColunas, coluna = 1:numeroDeLinhas\n",
    "        matrizTransposta[linha,coluna] = matriz[coluna,linha]\n",
    "    end  \n",
    "    return matrizTransposta\n",
    "end"
   ]
  },
  {
   "cell_type": "code",
   "execution_count": 49,
   "metadata": {},
   "outputs": [
    {
     "data": {
      "text/plain": [
       "identidade (generic function with 1 method)"
      ]
     },
     "execution_count": 49,
     "metadata": {},
     "output_type": "execute_result"
    }
   ],
   "source": [
    "#******************************************************************************************\n",
    "# MATRIZ IDENTIDADE\n",
    "# Retorna a identidade de uma matriz (digianonal pricipal = 1, restante = 0)\n",
    "\n",
    "# Entrada: tamanho da matriz a ser construida\n",
    "# Saídas: matriz identidade\n",
    "# Autor: Gabriella\n",
    "#------------------------------------------------------------------------------------------\n",
    "function identidade(tamanho)\n",
    "    #constroi matriz de 0 do tamanho correto\n",
    "    I=zeros(tamanho,tamanho) \n",
    "    #preenche diagonal com 1\n",
    "    for i=1:tamanho\n",
    "        I[i,i]=1 \n",
    "    end \n",
    "    return I      \n",
    "end"
   ]
  },
  {
   "cell_type": "code",
   "execution_count": 56,
   "metadata": {},
   "outputs": [
    {
     "data": {
      "text/plain": [
       "ortogonal (generic function with 1 method)"
      ]
     },
     "execution_count": 56,
     "metadata": {},
     "output_type": "execute_result"
    }
   ],
   "source": [
    "#******************************************************************************************\n",
    "#MATRIZ ORTOGONAL - verificar se uma matriz é ortogonal\n",
    "#Note que ser ortogonal é uma propriedade de matrizes quadradas\n",
    "#portanto, a matriz do input deverá ser quadrada\n",
    "#Uma matriz é ortogonal quando suas linhas e colunas são vetores ortogonais\n",
    "#outra forma de saber é se a transposta vezes a matriz é igual identidade\n",
    "\n",
    "#Entrada: matriz\n",
    "#Etapa 1: verifica se entrada é matriz quadrada, senao retorna erro\n",
    "#Etapa 2: calcula transposta da matriz\n",
    "#Etapa 3: multiplica transposta pela matriz original e verifica se deu identidade\n",
    "#Saída: true(é ortogonal) ou false(não é ortogonal)\n",
    "#------------------------------------------------------------------------------------------\n",
    "\n",
    "function ortogonal(matriz)\n",
    "    #transforma entrada em array\n",
    "    matriz = Array(matriz)\n",
    "    #checa se input é matriz quadrada\n",
    "    numeroDeLinhas, numeroDeColunas = size(matriz)\n",
    "    if numeroDeLinhas == numeroDeColunas\n",
    "        matrizTransposta = transposta(matriz)\n",
    "        #se matrix^T * matriz = Id, é ortogonal\n",
    "        if matrizTransposta*matriz == identidade(numeroDeLinhas)\n",
    "            return true\n",
    "        else\n",
    "            return false\n",
    "        end\n",
    "    else\n",
    "        #retorna erro se matriz nao e quadrada\n",
    "        throw(ArgumentError(\"Matriz deve ser quadrada. Matrizes retangulares podem ter colunas OU linhas ortonormais.\n",
    "                Porém não os dois ao mesmo tempo.\"))\n",
    "    end\n",
    "end\n"
   ]
  },
  {
   "cell_type": "code",
   "execution_count": 59,
   "metadata": {},
   "outputs": [
    {
     "data": {
      "text/plain": [
       "base_ortonormal (generic function with 1 method)"
      ]
     },
     "execution_count": 59,
     "metadata": {},
     "output_type": "execute_result"
    }
   ],
   "source": [
    "#******************************************************************************************\n",
    "#BASE ORTONORMAL - verificar se um dado conjunto de vetores forma base ortonormal\n",
    "#um conjunto de vetores forma base ortonormal se cada par de vetores é ortogonal entre si\n",
    "#e o comprimento de cada vetor é 1\n",
    "#como existe a funcao dois_vetores_ortogonais que avalia se dois vetores sao ortogonais\n",
    "#ja implementada, iremos utiliza-la\n",
    "#tambem iremos utilizar a funcao norma (para verificar o comprimento)\n",
    "\n",
    "#Entrada: conjunto de vetores\n",
    "#Etapa 1: verificar se entrada saõ vetores do mesmo tamanho, senao retorna erro\n",
    "#Etapa 2; verifica se comprimento dos vetores é 1, senao retorna false\n",
    "#Etapa 2: faz pares de vetores\n",
    "#Etapa 3: verifica se os pares sao ortogonais, senao retorna false\n",
    "#Saida; true(é base ortonormal) ou false (nao é base ortonormal)\n",
    "#------------------------------------------------------------------------------------------\n",
    "\n",
    "function base_ortonormal(conjunto_de_vetores)\n",
    "    #transforma entrada em array\n",
    "    conjunto_de_vetores = Array(conjunto_de_vetores)\n",
    "        #pega tamanho do primeiro vetor, iremos comparar com o resto\n",
    "        numeroDeLinhas, numeroDeColunas = size(conjunto_de_vetores[1])\n",
    "        #alguma das dimensoes precisa ser 1, senao nao é vetor...\n",
    "        if numeroDeLinhas != 1 && numeroDeColunas != 1\n",
    "            #se nenhuma for 1, retorna erro\n",
    "            throw(ArgumentError(\"Elementos do conjunto de vetores devem ser vetores (dimensao nx1 ou 1xn)\"))\n",
    "        else\n",
    "            #para cada vetor, ele deve ter o mesmo tamanho do primeiro e comprimento 1\n",
    "            for vetor in conjunto_de_vetores\n",
    "                if numeroDeLinhas == size(vetor)[1] && numeroDeColunas == size(vetor)[2] && \n",
    "                    norma(vetor) <= 1.001 && norma(vetor) >= 0.999\n",
    "                    continue\n",
    "                else\n",
    "                    return false\n",
    "                #cada par de vetor devera ser ortogonal entre si\n",
    "                for vetor2 in conjunto_de_vetores\n",
    "                    if produto_interno(vetor,vetor2) == 0   \n",
    "                        continue\n",
    "                    else\n",
    "                        return false     \n",
    "                    end\n",
    "                end\n",
    "                end\n",
    "            end\n",
    "        end\n",
    "    #se chegamos ate aqui, é pq a base é ortonormal\n",
    "    return true\n",
    "end"
   ]
  },
  {
   "cell_type": "code",
   "execution_count": 124,
   "metadata": {},
   "outputs": [
    {
     "data": {
      "text/plain": [
       "substituicao (generic function with 1 method)"
      ]
     },
     "execution_count": 124,
     "metadata": {},
     "output_type": "execute_result"
    }
   ],
   "source": [
    "#******************************************************************************************\n",
    "#SUBSTITUICAO - solucionar sistemas de equaçoes lineares Ax=b \n",
    "#a matriz devera ser quadrada e triangular\n",
    "\n",
    "#Entrada: matriz  A e vetor b\n",
    "#Etapa 1: verificar se matriz QUADRAD é triangular superior ou inferior\n",
    "#Etapa 2: verificar se vetor tem dimensao correta \n",
    "#Etapa 3: substituiçao\n",
    "#Saida: vetor x - solucao do sistema linear\n",
    "#------------------------------------------------------------------------------------------\n",
    "\n",
    "function substituicao(matriz,vetor) \n",
    "    #transforma matriz em array\n",
    "    matriz = Array(matriz)\n",
    "    #Se não for quadrada nxn ou vetor nao tiver dimensao correta nx1 retorna erro\n",
    "    numeroDeLinhas,numeroDeColunas = size(matriz)\n",
    "    if numeroDeLinhas != numeroDeColunas || numeroDeLinhas != size(vetor)[1] || 1 != size(vetor)[2]\n",
    "        throw(ArgumentError(\"Matriz deve ser quadrada nxn e vetor deve ser nx1\"))\n",
    "    end\n",
    "    #caso matriz seja triangular inferior\n",
    "    if e_triangular(matriz,false) == true  \n",
    "        #susbtituicao!\n",
    "        x = zeros(numeroDeColunas)\n",
    "        x[1] = vetor[1]/matriz[1,1]\n",
    "        for i in 2:numeroDeLinhas \n",
    "        x[i] = (vetor[i]- sum(matriz[i,j]*x[j] for j in 1:i-1))/matriz[i,i]\n",
    "                    end \n",
    "        return x\n",
    "    #Caso matriz for triangular superior\n",
    "    elseif e_triangular(matriz,true) == true\n",
    "        #substituicao!\n",
    "        x = zeros(numeroDeColunas) \n",
    "        x[numeroDeLinhas] = vetor[numeroDeLinhas]/matriz[numeroDeLinhas,numeroDeColunas]\n",
    "        for i in numeroDeLinhas-1:-1:1\n",
    "            x[i] = (vetor[i]- sum(matriz[i,j]*x[j] for j in i+1:numeroDeLinhas))/matriz[i,i]\n",
    "                    end            \n",
    "        return x\n",
    "    else\n",
    "        throw(ArgumentError(\"Matriz deve ser triangular\"))\n",
    "    end\n",
    "end \n",
    " "
   ]
  },
  {
   "cell_type": "markdown",
   "metadata": {},
   "source": [
    "# TESTES "
   ]
  },
  {
   "cell_type": "code",
   "execution_count": 79,
   "metadata": {},
   "outputs": [
    {
     "data": {
      "text/plain": [
       "4×4 Adjoint{Float64,Array{Float64,2}}:\n",
       " -1.0   0.25   0.25   0.0\n",
       "  0.0  -1.0    0.0    0.25\n",
       "  0.0   0.0   -1.0    0.25\n",
       "  0.0   0.0    0.0   -1.0"
      ]
     },
     "execution_count": 79,
     "metadata": {},
     "output_type": "execute_result"
    }
   ],
   "source": [
    "#******************************************************************************************\n",
    "#TESTE TRIANGULAR\n",
    "notTriangularMatrix = [-1 1/4 1/4 0;\n",
    "                        1/4 -1 0 1/4;\n",
    "                        1/4 0 -1 1/4;\n",
    "                        0 1/4 1/4 -1]\n",
    "\n",
    "squareTriU = [-1 1/4 1/4 0;\n",
    "              0 -1 -1 1/4;\n",
    "              0 0 1/4 1/4;\n",
    "              0 0 0 -1]\n",
    "\n",
    "squareTriL = [-1 0 0 0;\n",
    "              1/4 -1 0 0;\n",
    "              1/4 0 -1 0;\n",
    "              0 1/4 1/4 -1]\n",
    "\n",
    "rectangularTriU = [ 1 3 1;\n",
    "                    0 1 7;\n",
    "                    0 0 4;\n",
    "                    0 0 0]\n",
    "\n",
    "rectangularTriL = [2 0 0 0 0; \n",
    "                   3 1 0 0 0;\n",
    "                   4 6 2 0 0]\n",
    "\n",
    "matriz_gastao = lowerTriangularMatrix'"
   ]
  },
  {
   "cell_type": "code",
   "execution_count": 80,
   "metadata": {},
   "outputs": [
    {
     "data": {
      "text/plain": [
       "true"
      ]
     },
     "execution_count": 80,
     "metadata": {},
     "output_type": "execute_result"
    }
   ],
   "source": [
    "e_triangular(matriz_gastao)"
   ]
  },
  {
   "cell_type": "code",
   "execution_count": 81,
   "metadata": {},
   "outputs": [
    {
     "data": {
      "text/plain": [
       "true"
      ]
     },
     "execution_count": 81,
     "metadata": {},
     "output_type": "execute_result"
    }
   ],
   "source": [
    "e_triangular(squareTriL,false)"
   ]
  },
  {
   "cell_type": "code",
   "execution_count": 82,
   "metadata": {},
   "outputs": [
    {
     "data": {
      "text/plain": [
       "false"
      ]
     },
     "execution_count": 82,
     "metadata": {},
     "output_type": "execute_result"
    }
   ],
   "source": [
    "e_triangular(squareTriL)"
   ]
  },
  {
   "cell_type": "code",
   "execution_count": 83,
   "metadata": {},
   "outputs": [
    {
     "data": {
      "text/plain": [
       "true"
      ]
     },
     "execution_count": 83,
     "metadata": {},
     "output_type": "execute_result"
    }
   ],
   "source": [
    "e_triangular(rectangularTriU)"
   ]
  },
  {
   "cell_type": "code",
   "execution_count": 84,
   "metadata": {},
   "outputs": [
    {
     "data": {
      "text/plain": [
       "true"
      ]
     },
     "execution_count": 84,
     "metadata": {},
     "output_type": "execute_result"
    }
   ],
   "source": [
    "e_triangular(rectangularTriL, false)"
   ]
  },
  {
   "cell_type": "code",
   "execution_count": 85,
   "metadata": {},
   "outputs": [
    {
     "data": {
      "text/plain": [
       "false"
      ]
     },
     "execution_count": 85,
     "metadata": {},
     "output_type": "execute_result"
    }
   ],
   "source": [
    "e_triangular(rectangularTriL)"
   ]
  },
  {
   "cell_type": "code",
   "execution_count": 38,
   "metadata": {},
   "outputs": [
    {
     "ename": "LoadError",
     "evalue": "ArgumentError: Parâmetro 'superior' deve ser true ou false. Para testar se é\n                é triangular inferior, utilizar false.",
     "output_type": "error",
     "traceback": [
      "ArgumentError: Parâmetro 'superior' deve ser true ou false. Para testar se é\n                é triangular inferior, utilizar false.",
      "",
      "Stacktrace:",
      " [1] e_triangular(::Array{Float64,2}, ::Array{Float64,2}) at ./In[32]:44",
      " [2] top-level scope at In[38]:2",
      " [3] include_string(::Function, ::Module, ::String, ::String) at ./loading.jl:1091"
     ]
    }
   ],
   "source": [
    "e_triangular(notTriangularMatrix, Array(matriz))"
   ]
  },
  {
   "cell_type": "code",
   "execution_count": 47,
   "metadata": {},
   "outputs": [
    {
     "data": {
      "text/plain": [
       "true"
      ]
     },
     "execution_count": 47,
     "metadata": {},
     "output_type": "execute_result"
    }
   ],
   "source": [
    "#******************************************************************************************\n",
    "#TESTE TRANSPOSTA - se for triangular inferior deve se tornar triangular superior!\n",
    "e_triangular(transposta(squareTriL))\n"
   ]
  },
  {
   "cell_type": "code",
   "execution_count": 86,
   "metadata": {},
   "outputs": [
    {
     "data": {
      "text/plain": [
       "4×4 Array{Float64,2}:\n",
       " -1.0    0.0   0.0    0.0\n",
       "  0.25  -1.0   0.0    0.0\n",
       "  0.25  -1.0   0.25   0.0\n",
       "  0.0    0.25  0.25  -1.0"
      ]
     },
     "execution_count": 86,
     "metadata": {},
     "output_type": "execute_result"
    }
   ],
   "source": [
    "transposta(squareTriU)"
   ]
  },
  {
   "cell_type": "code",
   "execution_count": 57,
   "metadata": {},
   "outputs": [
    {
     "data": {
      "text/plain": [
       "true"
      ]
     },
     "execution_count": 57,
     "metadata": {},
     "output_type": "execute_result"
    }
   ],
   "source": [
    "#******************************************************************************************\n",
    "#TESTE ORTOGONAL\n",
    "ortogonal([1 0; 0 1])"
   ]
  },
  {
   "cell_type": "code",
   "execution_count": 87,
   "metadata": {},
   "outputs": [
    {
     "data": {
      "text/plain": [
       "false"
      ]
     },
     "execution_count": 87,
     "metadata": {},
     "output_type": "execute_result"
    }
   ],
   "source": [
    "ortogonal([1 1; 0 0])"
   ]
  },
  {
   "cell_type": "code",
   "execution_count": 62,
   "metadata": {},
   "outputs": [
    {
     "data": {
      "text/plain": [
       "3-element Array{Array{Int64,2},1}:\n",
       " [1 1 1]\n",
       " [-2 1 1]\n",
       " [0 1 -1]"
      ]
     },
     "execution_count": 62,
     "metadata": {},
     "output_type": "execute_result"
    }
   ],
   "source": [
    "#******************************************************************************************\n",
    "#TESTE BASE ORTONORMAL\n",
    "conjunto_de_vetores_ortonormal = [[1/sqrt(2) 0 -1/sqrt(2)], [1/2 sqrt(2)/2 1/2], [1/2 -sqrt(2)/2 1/2]]\n",
    "conjunto_de_vetores_ortogonal = [[1 1 1], [-2 1 1], [0 1 -1]]"
   ]
  },
  {
   "cell_type": "code",
   "execution_count": 64,
   "metadata": {},
   "outputs": [
    {
     "data": {
      "text/plain": [
       "false"
      ]
     },
     "execution_count": 64,
     "metadata": {},
     "output_type": "execute_result"
    }
   ],
   "source": [
    "base_ortonormal(conjunto_de_vetores_ortogonal)"
   ]
  },
  {
   "cell_type": "code",
   "execution_count": 88,
   "metadata": {},
   "outputs": [
    {
     "data": {
      "text/plain": [
       "true"
      ]
     },
     "execution_count": 88,
     "metadata": {},
     "output_type": "execute_result"
    }
   ],
   "source": [
    "base_ortonormal(conjunto_de_vetores_ortonormal)"
   ]
  },
  {
   "cell_type": "code",
   "execution_count": 125,
   "metadata": {},
   "outputs": [
    {
     "name": "stdout",
     "output_type": "stream",
     "text": [
      "[-1.1387850470972873, 1.0199295119844694, -2.486262934156594][-1.1387850470972873; 1.0199295119844696; -2.4862629341565934]"
     ]
    }
   ],
   "source": [
    "#******************************************************************************************\n",
    "#TESTE SUBSTITUICAO\n",
    "b = randn(3,1)\n",
    "A = [1.0      0.0      0.0;\n",
    " 2.12374  1.0      0.0;\n",
    " 1.20021  1.04731  1.0]\n",
    "\n",
    "#tem que dar a mesma coisa\n",
    "print(A*substituicao(A,b), b)\n"
   ]
  },
  {
   "cell_type": "code",
   "execution_count": 126,
   "metadata": {},
   "outputs": [
    {
     "ename": "LoadError",
     "evalue": "ArgumentError: Matriz deve ser triangular",
     "output_type": "error",
     "traceback": [
      "ArgumentError: Matriz deve ser triangular",
      "",
      "Stacktrace:",
      " [1] substituicao(::Array{Float64,2}, ::Array{Float64,2}) at ./In[124]:39",
      " [2] top-level scope at In[126]:7",
      " [3] include_string(::Function, ::Module, ::String, ::String) at ./loading.jl:1091"
     ]
    }
   ],
   "source": [
    "b = randn(3,1)\n",
    "A = [1.0      2.0      0.0;\n",
    " 2.12374  1.0      0.0;\n",
    " 1.20021  1.04731  1.0]\n",
    "\n",
    "#é para dar erro pois nao é triangular\n",
    "print(A*substituicao(A,b), b)"
   ]
  },
  {
   "cell_type": "code",
   "execution_count": 127,
   "metadata": {},
   "outputs": [
    {
     "name": "stdout",
     "output_type": "stream",
     "text": [
      "[0.4329814544777911, -0.5023715553980526, -1.3641492258206132, 2.9612308389928717][0.4329814544777911; -0.5023715553980528; -1.3641492258206132; 2.9612308389928717]"
     ]
    }
   ],
   "source": [
    "b = randn(4,1)\n",
    "\n",
    "print(squareTriU*substituicao(squareTriU,b),b)\n"
   ]
  },
  {
   "cell_type": "code",
   "execution_count": 128,
   "metadata": {},
   "outputs": [
    {
     "ename": "LoadError",
     "evalue": "ArgumentError: Matriz deve ser quadrada nxn e vetor deve ser nx1",
     "output_type": "error",
     "traceback": [
      "ArgumentError: Matriz deve ser quadrada nxn e vetor deve ser nx1",
      "",
      "Stacktrace:",
      " [1] substituicao(::Array{Int64,2}, ::Array{Float64,2}) at ./In[124]:18",
      " [2] top-level scope at In[128]:3",
      " [3] include_string(::Function, ::Module, ::String, ::String) at ./loading.jl:1091"
     ]
    }
   ],
   "source": [
    "b = randn(4,1)\n",
    "\n",
    "print(rectangularTriU*substituicao(rectangularTriU,b),b)"
   ]
  },
  {
   "cell_type": "code",
   "execution_count": 130,
   "metadata": {},
   "outputs": [
    {
     "name": "stdout",
     "output_type": "stream",
     "text": [
      "[-0.7483477567334472, 0.04842637601137825, -2.2890422146720026, -1.127496534253452][-0.7483477567334472; 0.04842637601137824; -2.2890422146720026; -1.127496534253452]"
     ]
    }
   ],
   "source": [
    "b = randn(4,1)\n",
    "\n",
    "print(squareTriL*substituicao(squareTriL,b),b)"
   ]
  }
 ],
 "metadata": {
  "kernelspec": {
   "display_name": "Julia 1.5.1",
   "language": "julia",
   "name": "julia-1.5"
  },
  "language_info": {
   "file_extension": ".jl",
   "mimetype": "application/julia",
   "name": "julia",
   "version": "1.5.1"
  }
 },
 "nbformat": 4,
 "nbformat_minor": 4
}
