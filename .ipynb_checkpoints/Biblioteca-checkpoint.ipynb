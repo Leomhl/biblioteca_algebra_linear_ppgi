{
 "cells": [
  {
   "cell_type": "code",
   "execution_count": 106,
   "metadata": {},
   "outputs": [
    {
     "data": {
      "text/plain": [
       "simulacao_LU1 (generic function with 1 method)"
      ]
     },
     "execution_count": 106,
     "metadata": {},
     "output_type": "execute_result"
    }
   ],
   "source": [
    "include(\"AlgebraPpgi.jl\")"
   ]
  },
  {
   "cell_type": "markdown",
   "metadata": {},
   "source": [
    "## Testes"
   ]
  },
  {
   "cell_type": "markdown",
   "metadata": {},
   "source": [
    "### Norma de Matrizes"
   ]
  },
  {
   "cell_type": "code",
   "execution_count": 2,
   "metadata": {},
   "outputs": [
    {
     "data": {
      "text/plain": [
       "0.0"
      ]
     },
     "execution_count": 2,
     "metadata": {},
     "output_type": "execute_result"
    }
   ],
   "source": [
    "#Norma de matriz aleatória\n",
    "#Resultado esperado da subtração: 0\n",
    "#Autor do teste: Danilo\n",
    "A =rand(5,5)\n",
    "norma_matriz(A) - sqrt(sum(vec(A).^2))"
   ]
  },
  {
   "cell_type": "code",
   "execution_count": 3,
   "metadata": {},
   "outputs": [
    {
     "data": {
      "text/plain": [
       "0.0"
      ]
     },
     "execution_count": 3,
     "metadata": {},
     "output_type": "execute_result"
    }
   ],
   "source": [
    "#Norma de matriz nula\n",
    "#Resultado esperado: 0\n",
    "#Autor do teste: Danilo\n",
    "A = zeros(10,10)\n",
    "norma_matriz(A)"
   ]
  },
  {
   "cell_type": "code",
   "execution_count": 4,
   "metadata": {},
   "outputs": [
    {
     "data": {
      "text/plain": [
       "10.0"
      ]
     },
     "execution_count": 4,
     "metadata": {},
     "output_type": "execute_result"
    }
   ],
   "source": [
    "#Norma de matriz composta apenas por 1, dimensões 10x10\n",
    "#Resultado esperado: 10\n",
    "#Autor do teste: Danilo\n",
    "A = ones(Integer, (10,10))\n",
    "norma_matriz(A)"
   ]
  },
  {
   "cell_type": "markdown",
   "metadata": {},
   "source": [
    "### Soma de Matrizes"
   ]
  },
  {
   "cell_type": "code",
   "execution_count": 5,
   "metadata": {},
   "outputs": [
    {
     "data": {
      "text/plain": [
       "0.0"
      ]
     },
     "execution_count": 5,
     "metadata": {},
     "output_type": "execute_result"
    }
   ],
   "source": [
    "#Soma de matrizes quadradas aleatórias\n",
    "#Resultado esperado ao final do teste: 0\n",
    "#Autor do teste: Danilo\n",
    "A =rand(5,5)\n",
    "B =rand(5,5)\n",
    "soma = soma_matrizes(A,B)\n",
    "norma_matriz(soma-A-B)"
   ]
  },
  {
   "cell_type": "code",
   "execution_count": 6,
   "metadata": {},
   "outputs": [
    {
     "ename": "AssertionError",
     "evalue": "AssertionError: size(A) == size(B) && ndims(A) == 2",
     "output_type": "error",
     "traceback": [
      "AssertionError: size(A) == size(B) && ndims(A) == 2",
      "",
      "Stacktrace:",
      " [1] soma_matrizes(::Array{Float64,2}, ::Array{Float64,2}) at /home/danilo/Desktop/al/biblioteca_algebra_linear_ppgi/AlgebraPpgi.jl:69",
      " [2] top-level scope at In[6]:6"
     ]
    }
   ],
   "source": [
    "#Soma de matrizes de tamamos diferentes\n",
    "#Resultado esperado ao final do teste: AssertionError\n",
    "#Autor do teste: Danilo\n",
    "A =rand(10,5)\n",
    "B =rand(5,5)\n",
    "soma = soma_matrizes(A,B)"
   ]
  },
  {
   "cell_type": "markdown",
   "metadata": {},
   "source": [
    "### Multiplicação de Matrizes"
   ]
  },
  {
   "cell_type": "code",
   "execution_count": 7,
   "metadata": {},
   "outputs": [
    {
     "data": {
      "text/plain": [
       "2.9893669801409083e-16"
      ]
     },
     "execution_count": 7,
     "metadata": {},
     "output_type": "execute_result"
    }
   ],
   "source": [
    "#multiplicação de matrizes aleatórias de mesmo tamanho\n",
    "#Resultado esperado da subtração: 0\n",
    "#Autor do teste: Danilo\n",
    "A = rand(5,5)\n",
    "B = rand(5,5)\n",
    "norma_matriz(multiplicar_matrizes(A, B) - A*B)"
   ]
  },
  {
   "cell_type": "code",
   "execution_count": 8,
   "metadata": {},
   "outputs": [
    {
     "ename": "AssertionError",
     "evalue": "AssertionError: mA == nB",
     "output_type": "error",
     "traceback": [
      "AssertionError: mA == nB",
      "",
      "Stacktrace:",
      " [1] multiplicar_matrizes(::Array{Float64,2}, ::Array{Float64,2}) at /home/danilo/Desktop/al/biblioteca_algebra_linear_ppgi/AlgebraPpgi.jl:113",
      " [2] top-level scope at In[8]:6"
     ]
    }
   ],
   "source": [
    "#multiplicação de matrizes aleatórias de tamanhos diferentes\n",
    "#Resultado esperado: AssertionError\n",
    "#Autor do teste: Danilo\n",
    "A = rand(10,5)\n",
    "B = rand(5,5)\n",
    "multiplicar_matrizes(A, B)"
   ]
  },
  {
   "cell_type": "code",
   "execution_count": 9,
   "metadata": {},
   "outputs": [
    {
     "data": {
      "text/plain": [
       "0.0"
      ]
     },
     "execution_count": 9,
     "metadata": {},
     "output_type": "execute_result"
    }
   ],
   "source": [
    "#multiplicação de matriz nula por matriz aleatória\n",
    "#Resultado esperado da norma: 0\n",
    "#Autor do teste: Danilo\n",
    "A = zeros(5,5)\n",
    "B = rand(5,5)\n",
    "norma_matriz(multiplicar_matrizes(A, B))"
   ]
  },
  {
   "cell_type": "markdown",
   "metadata": {},
   "source": [
    "### Matriz Transposta"
   ]
  },
  {
   "cell_type": "code",
   "execution_count": 13,
   "metadata": {},
   "outputs": [
    {
     "data": {
      "text/plain": [
       "true"
      ]
     },
     "execution_count": 13,
     "metadata": {},
     "output_type": "execute_result"
    }
   ],
   "source": [
    "#Verificando uma matriz aleatória 100x100\n",
    "#Resultado esperado: true\n",
    "#Autor do teste: Danilo\n",
    "a = rand(100,100)\n",
    "a_transposta = transposta(a)\n",
    "a_transposta_transposta=transposta(a_transposta)\n",
    "a == a_transposta_transposta"
   ]
  },
  {
   "cell_type": "code",
   "execution_count": 14,
   "metadata": {},
   "outputs": [
    {
     "data": {
      "text/plain": [
       "true"
      ]
     },
     "execution_count": 14,
     "metadata": {},
     "output_type": "execute_result"
    }
   ],
   "source": [
    "#Verificando um vetor 100x1\n",
    "#Resultado esperado: true\n",
    "#Autor do teste: Danilo\n",
    "a = rand(100,1)\n",
    "a_transposta = transposta(a)\n",
    "a_transposta_transposta=transposta(a_transposta)\n",
    "a == a_transposta_transposta"
   ]
  },
  {
   "cell_type": "code",
   "execution_count": 15,
   "metadata": {},
   "outputs": [
    {
     "data": {
      "text/plain": [
       "true"
      ]
     },
     "execution_count": 15,
     "metadata": {},
     "output_type": "execute_result"
    }
   ],
   "source": [
    "#Verificando um vetor unitario nulo\n",
    "#Resultado esperado: true\n",
    "#Autor do teste: Danilo\n",
    "a = [0]\n",
    "a_transposta = transposta(a)\n",
    "a_transposta_transposta=transposta(a_transposta)\n",
    "a == a_transposta_transposta"
   ]
  },
  {
   "cell_type": "markdown",
   "metadata": {},
   "source": [
    "### Produto Interno"
   ]
  },
  {
   "cell_type": "code",
   "execution_count": 26,
   "metadata": {},
   "outputs": [
    {
     "name": "stdout",
     "output_type": "stream",
     "text": [
      "63\n",
      "Passou no teste, deu o mesmo resultado :D"
     ]
    }
   ],
   "source": [
    "# Teste da função de produto interno\n",
    "# Autor do teste: Léo\n",
    "\n",
    "a = [ 2, 5, 8];\n",
    "b = [ 1, 1, 7];\n",
    "\n",
    "println(produto_interno(a,b))\n",
    "\n",
    "if(produto_interno(a,b) == a' * b)\n",
    "    print(\"Passou no teste, deu o mesmo resultado :D\")\n",
    "else\n",
    "    print(\"Não passou no teste, resultados diferentes :(\")\n",
    "end"
   ]
  },
  {
   "cell_type": "markdown",
   "metadata": {},
   "source": [
    "### Vetores Perpendiculares"
   ]
  },
  {
   "cell_type": "code",
   "execution_count": 41,
   "metadata": {},
   "outputs": [
    {
     "data": {
      "text/plain": [
       "true"
      ]
     },
     "execution_count": 41,
     "metadata": {},
     "output_type": "execute_result"
    }
   ],
   "source": [
    "# Teste da função de vetores perpendiculares\n",
    "# Vetores canônicos em R2\n",
    "# Resultado esperado: true\n",
    "# Autor do teste: Danilo\n",
    "v1 = [1,0]\n",
    "v2 = [0,1]\n",
    "vetores_perpendiculares(v1,v2)"
   ]
  },
  {
   "cell_type": "code",
   "execution_count": 82,
   "metadata": {},
   "outputs": [
    {
     "data": {
      "text/plain": [
       "false"
      ]
     },
     "execution_count": 82,
     "metadata": {},
     "output_type": "execute_result"
    }
   ],
   "source": [
    "# Teste da função de vetores perpendiculares\n",
    "# Vetores iguais\n",
    "# Resultado esperado: false\n",
    "# Autor do teste: Danilo\n",
    "v1 = rand(2)\n",
    "vetores_perpendiculares(v1,v1)"
   ]
  },
  {
   "cell_type": "markdown",
   "metadata": {},
   "source": [
    "### Matriz é ortogonal"
   ]
  },
  {
   "cell_type": "code",
   "execution_count": 108,
   "metadata": {},
   "outputs": [
    {
     "data": {
      "text/plain": [
       "true"
      ]
     },
     "execution_count": 108,
     "metadata": {},
     "output_type": "execute_result"
    }
   ],
   "source": [
    "# Teste da função de matriz ortogonal\n",
    "# Vetores canônicos em r2\n",
    "# Resultado esperado: true\n",
    "# Autor do teste: Danilo\n",
    "ortogonal([1 0;0 1])"
   ]
  },
  {
   "cell_type": "code",
   "execution_count": 117,
   "metadata": {},
   "outputs": [
    {
     "data": {
      "text/plain": [
       "true"
      ]
     },
     "execution_count": 117,
     "metadata": {},
     "output_type": "execute_result"
    }
   ],
   "source": [
    "# Teste da função de matriz ortogonal\n",
    "# matriz identidade de ordem 10\n",
    "# Resultado esperado: true\n",
    "# Autor do teste: Danilo\n",
    "\n",
    "ortogonal(identidade1(10))"
   ]
  },
  {
   "cell_type": "markdown",
   "metadata": {},
   "source": [
    "### Decomposição QR"
   ]
  },
  {
   "cell_type": "code",
   "execution_count": 25,
   "metadata": {},
   "outputs": [
    {
     "data": {
      "text/plain": [
       "true"
      ]
     },
     "execution_count": 25,
     "metadata": {},
     "output_type": "execute_result"
    }
   ],
   "source": [
    "# Decomposição QR\n",
    "# Resultado esperado: true\n",
    "# Autor do teste:Gastão\n",
    "function teste_qr(k)\n",
    "    Tudo_certo=true\n",
    "    for n=1:k\n",
    "        for m=1:k\n",
    "            A=randn(n,m)\n",
    "            Q,R=decomposição_qr(A)\n",
    "            if norma_matriz(A-Q*R)>0.00001\n",
    "                if Q*Q'!=I\n",
    "                    Tudo_certo=false\n",
    "                end\n",
    "            end\n",
    "        end\n",
    "    end\n",
    "        \n",
    "    return Tudo_certo\n",
    "end\n",
    "teste_qr(10)"
   ]
  },
  {
   "cell_type": "markdown",
   "metadata": {},
   "source": [
    "### Decomposição LU\n"
   ]
  },
  {
   "cell_type": "code",
   "execution_count": 18,
   "metadata": {},
   "outputs": [
    {
     "data": {
      "text/plain": [
       "true"
      ]
     },
     "execution_count": 18,
     "metadata": {},
     "output_type": "execute_result"
    }
   ],
   "source": [
    "# Decomposição QR\n",
    "# Resultado esperado: true\n",
    "# Autor do teste:Gastão\n",
    "function teste_lu(k)\n",
    "    Tudo_certo=true\n",
    "    for n=1:k\n",
    "        for m=1:k\n",
    "            A=randn(n,m)\n",
    "            L,U=LU(A)\n",
    "            if norma_matriz(A-L*U)>0.00001\n",
    "                # L é triangular inferior?\n",
    "                # U é triangular superior?\n",
    "                Tudo_certo=false\n",
    "            end\n",
    "        end\n",
    "    end\n",
    "    \n",
    "    return Tudo_certo\n",
    "end\n",
    "teste_lu(10)"
   ]
  },
  {
   "cell_type": "markdown",
   "metadata": {},
   "source": [
    "### SVD"
   ]
  },
  {
   "cell_type": "code",
   "execution_count": 36,
   "metadata": {},
   "outputs": [
    {
     "name": "stdout",
     "output_type": "stream",
     "text": [
      "O vetor v é: [0.2672612419124244, 0.5345224838248488, 0.8017837257372732]\n",
      "\n",
      "O 1o ponto é:\n",
      "[1, 2, 3]\n",
      "O vetor v*(1/v[1]) é:\n",
      "[1.0, 2.0, 3.0]\n",
      "\n",
      "O 2o ponto é:\n",
      "[2, 4, 6]\n",
      "O vetor v*(2/v[1]) é:\n",
      "[2.0, 4.0, 6.0]\n",
      "\n",
      "O 3o ponto é:\n",
      "[3, 6, 9]\n",
      "O vetor v*(3/v[1]) é:\n",
      "[3.0, 6.0, 9.0]\n",
      "\n",
      "O 4o ponto é:\n",
      "[4, 8, 12]\n",
      "O vetor v*(4/v[1]) é:\n",
      "[4.0, 8.0, 12.0]\n",
      "\n",
      "Os pontos são colineares!\n",
      "\n",
      "\n",
      "O vetor v é: [0.2442895537831185, 0.488579107566237, 0.8376234652648075]\n",
      "\n",
      "O 1o ponto é:\n",
      "[1, 2, 3]\n",
      "O vetor v*(1/v[1]) é:\n",
      "[1.0, 2.0, 3.428814094967212]\n",
      "\n",
      "O 2o ponto é:\n",
      "[2, 4, 6]\n",
      "O vetor v*(2/v[1]) é:\n",
      "[2.0, 4.0, 6.857628189934424]\n",
      "\n",
      "O 3o ponto é:\n",
      "[3, 6, 9]\n",
      "O vetor v*(3/v[1]) é:\n",
      "[3.0, 6.0, 10.286442284901636]\n",
      "\n",
      "O 4o ponto é:\n",
      "[4, 8, 15]\n",
      "O vetor v*(4/v[1]) é:\n",
      "[4.0, 8.0, 13.715256379868848]\n",
      "\n",
      "Os pontos não são colineares!\n",
      "\n",
      "\n",
      "O vetor v é: [0.4180912698268028, 0.6426178100047313, 0.4906569119456968, 0.16179955937753676, 0.3812069486571333]\n",
      "\n",
      "O 1o ponto é:\n",
      "[0.21891501887555043, 0.9334967301260602, 0.7318915731179607, 0.1847438529609644, 0.3236029429204439]\n",
      "O vetor v*(0.21891501887555043/v[1]) é:\n",
      "[0.2189150188755504, 0.33647842028662245, 0.25691081084880757, 0.08471918968760656, 0.19960217393522195]\n",
      "\n",
      "O 2o ponto é:\n",
      "[0.3977687467798401, 0.2574518797439178, 0.0060041725764692355, 0.25566495809549306, 0.44320825828725474]\n",
      "O vetor v*(0.3977687467798401/v[1]) é:\n",
      "[0.3977687467798401, 0.6113815317164526, 0.4668071281286401, 0.15393482860762484, 0.3626772936299996]\n",
      "\n",
      "O 3o ponto é:\n",
      "[0.665460383085382, 0.2858045872162762, 0.32298444815597094, 0.0186886293880002, 0.34331680994013825]\n",
      "O vetor v*(0.665460383085382/v[1]) é:\n",
      "[0.665460383085382, 1.0228309579398518, 0.7809604269472887, 0.25753036367160975, 0.6067529757157413]\n",
      "\n",
      "Os pontos não são colineares!\n"
     ]
    }
   ],
   "source": [
    "function teste_SVD(pontos)\n",
    "    colineares=true\n",
    "    v=SVD(pontos')\n",
    "    println(\"O vetor v é: \", v)\n",
    "    println()\n",
    "    for i=1:length(pontos[:,1])\n",
    "        a=v*(pontos[i,1]/v[1])\n",
    "        if norma_vetor(pontos[i,:]-a)>0.001 colineares=false end\n",
    "        println(\"O \", i, \"o ponto é:\")\n",
    "        println(pontos[i,:])\n",
    "        println(\"O vetor v*(\", pontos[i,1], \"/v[1]) é:\")\n",
    "        println(a)\n",
    "        println()\n",
    "    end\n",
    "    if colineares\n",
    "        println(\"Os pontos são colineares!\")\n",
    "    else\n",
    "        println(\"Os pontos não são colineares!\")\n",
    "    end\n",
    "end\n",
    "\n",
    "\n",
    "teste_SVD([1 2 3; 2 4 6 ; 3 6 9; 4 8 12])\n",
    "\n",
    "println()\n",
    "println()\n",
    "\n",
    "teste_SVD([1 2 3; 2 4 6 ; 3 6 9; 4 8 15])\n",
    "\n",
    "println()\n",
    "println()\n",
    "\n",
    "teste_SVD(rand(3,5))"
   ]
  },
  {
   "cell_type": "markdown",
   "metadata": {},
   "source": [
    "#### SISTEMAS DINÂMICOS LINEARES"
   ]
  },
  {
   "cell_type": "code",
   "execution_count": 31,
   "metadata": {},
   "outputs": [
    {
     "data": {
      "text/plain": [
       "true"
      ]
     },
     "execution_count": 31,
     "metadata": {},
     "output_type": "execute_result"
    }
   ],
   "source": [
    "# SISTEMAS DINÂMICOS LINEARES\n",
    "# resultado esperado: true\n",
    "# Autor do teste:Gastão\n",
    "function teste_dinamica(k)\n",
    "    Tudo_certo=true\n",
    "\n",
    "    # Uma dinâmica aplicada no vetor nulo sempre dará como resposta o vetor nulo.\n",
    "    for n=2:k\n",
    "        A=randn(n,n)                # Matriz A qualquer\n",
    "        x0=zeros(n,1)               # Dado inicial nulo\n",
    "        for i=1:k\n",
    "            x=dinamica(A,x0,i)      # Resultado da dinâmica\n",
    "            if norma_matriz(x)>0.00001      # Verificação se o resultado continua sendo o vetor nulo\n",
    "                Tudo_certo=false    \n",
    "            end\n",
    "        end\n",
    "    end\n",
    "\n",
    "    # Se a matriz for a identidade então ela não irá alterar o vetor.\n",
    "    for n=2:k\n",
    "        A=zeros(n,n)                  \n",
    "        for i=1:n A[i,i]=1 end       # Matriz A identidade\n",
    "        x0=randn(n,1)                # Dado inicial qualquer\n",
    "        for i=1:k\n",
    "            x=dinamica(A,x0,i)       # Resultado da dinâmica\n",
    "            if norma_matriz(x0-x)>0.00001    # Verifica se o resultado continua sendo o dado inicial\n",
    "                Tudo_certo=false\n",
    "            end\n",
    "        end\n",
    "    end\n",
    "\n",
    "    return Tudo_certo   \n",
    "end\n",
    "teste_dinamica(10)"
   ]
  },
  {
   "cell_type": "code",
   "execution_count": null,
   "metadata": {},
   "outputs": [],
   "source": []
  }
 ],
 "metadata": {
  "kernelspec": {
   "display_name": "Julia 1.4.2",
   "language": "julia",
   "name": "julia-1.4"
  },
  "language_info": {
   "file_extension": ".jl",
   "mimetype": "application/julia",
   "name": "julia",
   "version": "1.4.2"
  }
 },
 "nbformat": 4,
 "nbformat_minor": 4
}
