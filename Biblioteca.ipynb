{
 "cells": [
  {
   "cell_type": "code",
   "execution_count": 16,
   "metadata": {},
   "outputs": [
    {
     "name": "stdout",
     "output_type": "stream",
     "text": [
      "    1.1753504    2.0102456    1.1514286    1.9004129   -0.4865930   -0.6227600   -0.6025483\n",
      "    0.0307663    1.9801726    0.7910733   -1.0283499    1.6791354   -1.0046150    0.3203562\n",
      "   -0.5430891   -0.2463601   -0.4737646   -0.4819136    0.3380544   -0.2979210   -0.2756463\n",
      "    1.1160797    1.0101704   -0.2175629    0.5224603    0.5687212    1.4777332   -0.9965073\n",
      "    0.3429040    0.5346997    0.8680261   -1.8236751   -0.5040508   -0.1178688   -1.5188941\n",
      "   -0.2306870   -0.1060454   -0.2863049   -2.1191094   -0.8036454   -1.8431187   -0.6057289\n",
      "   -0.9355073   -1.1599930   -1.0171819   -1.6177270   -0.3084547    1.1757147    1.1892168\n"
     ]
    }
   ],
   "source": [
    "# iniciar nossa biblioteca aqui :D\n",
    "\n",
    "include(\"AlgebraPpgi.jl\")\n",
    "\n",
    "A = randn(7,7)\n",
    "\n",
    "PrintMatrix(A, 5, 7)"
   ]
  },
  {
   "cell_type": "code",
   "execution_count": null,
   "metadata": {},
   "outputs": [],
   "source": []
  },
  {
   "cell_type": "code",
   "execution_count": null,
   "metadata": {},
   "outputs": [],
   "source": []
  },
  {
   "cell_type": "code",
   "execution_count": null,
   "metadata": {},
   "outputs": [],
   "source": []
  }
 ],
 "metadata": {
  "kernelspec": {
   "display_name": "Julia 1.4.2",
   "language": "julia",
   "name": "julia-1.4"
  },
  "language_info": {
   "file_extension": ".jl",
   "mimetype": "application/julia",
   "name": "julia",
   "version": "1.4.2"
  }
 },
 "nbformat": 4,
 "nbformat_minor": 4
}
