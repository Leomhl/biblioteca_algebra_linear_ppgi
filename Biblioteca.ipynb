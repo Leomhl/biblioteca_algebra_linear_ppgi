{
 "cells": [
  {
   "cell_type": "code",
   "execution_count": 1,
   "metadata": {},
   "outputs": [
    {
     "data": {
      "text/plain": [
       "teste_dinamica (generic function with 1 method)"
      ]
     },
     "execution_count": 1,
     "metadata": {},
     "output_type": "execute_result"
    }
   ],
   "source": [
    "# iniciar nossa biblioteca aqui :D\n",
    "\n",
    "include(\"AlgebraPpgi.jl\")\n",
    "\n"
   ]
  },
  {
   "cell_type": "code",
   "execution_count": 30,
   "metadata": {},
   "outputs": [
    {
     "name": "stdout",
     "output_type": "stream",
     "text": [
      "63\n",
      "Passou no teste, deu o mesmo resultado :D"
     ]
    }
   ],
   "source": [
    "# Teste da função de produto interno\n",
    "\n",
    "a = [ 2, 5, 8];\n",
    "b = [ 1, 1, 7];\n",
    "\n",
    "println(produto_interno(a,b))\n",
    "\n",
    "if(produto_interno(a,b) == a' * b)\n",
    "    print(\"Passou no teste, deu o mesmo resultado :D\")\n",
    "else\n",
    "    print(\"Não passou no teste, resultados diferentes :(\")\n",
    "end"
   ]
  },
  {
   "cell_type": "code",
   "execution_count": 29,
   "metadata": {},
   "outputs": [
    {
     "ename": "BoundsError",
     "evalue": "BoundsError: attempt to access 1×1 Array{Float64,2} at index [0]",
     "output_type": "error",
     "traceback": [
      "BoundsError: attempt to access 1×1 Array{Float64,2} at index [0]",
      "",
      "Stacktrace:",
      " [1] getindex(::Array{Float64,2}, ::Int64) at ./array.jl:788",
      " [2] top-level scope at In[29]:6"
     ]
    }
   ],
   "source": [
    "# Teste da função de cálculo de norma\n",
    "# |v| = √(a2 + b2)\n",
    "\n",
    "v = [2 3];\n",
    "v = sqrt(v*v');\n",
    "\n",
    "println(v[0])\n",
    "println(norma([2 3]))\n",
    "\n",
    "# if(norma([2 3]) == v[0])\n",
    "#     print(\"Passou no teste, deu o mesmo resultado :D\")\n",
    "# else\n",
    "#     print(\"Não passou no teste, resultados diferentes :(\")\n",
    "# end"
   ]
  },
  {
   "cell_type": "code",
   "execution_count": null,
   "metadata": {},
   "outputs": [],
   "source": [
    "A = randn(2,3)\n",
    "multiplicar_matrizes(A, [0 0 0])"
   ]
  },
  {
   "cell_type": "code",
   "execution_count": null,
   "metadata": {},
   "outputs": [],
<<<<<<< HEAD
   "source": []
  },
  {
   "cell_type": "code",
   "execution_count": null,
   "metadata": {},
   "outputs": [],
   "source": []
  },
  {
   "cell_type": "code",
   "execution_count": null,
   "metadata": {},
   "outputs": [],
   "source": []
  },
  {
   "cell_type": "code",
   "execution_count": null,
   "metadata": {},
   "outputs": [],
   "source": []
  },
  {
   "cell_type": "code",
   "execution_count": null,
   "metadata": {},
   "outputs": [],
   "source": []
  },
  {
   "cell_type": "code",
   "execution_count": null,
   "metadata": {},
   "outputs": [],
   "source": []
  },
  {
   "cell_type": "code",
   "execution_count": null,
   "metadata": {},
   "outputs": [],
   "source": []
  },
  {
   "cell_type": "code",
   "execution_count": null,
   "metadata": {},
   "outputs": [],
   "source": []
  },
  {
   "cell_type": "code",
   "execution_count": null,
   "metadata": {},
   "outputs": [],
   "source": []
  },
  {
   "cell_type": "code",
   "execution_count": null,
   "metadata": {},
   "outputs": [],
   "source": []
  },
  {
   "cell_type": "code",
   "execution_count": null,
   "metadata": {},
   "outputs": [],
   "source": []
  },
  {
   "cell_type": "code",
   "execution_count": null,
   "metadata": {},
   "outputs": [],
   "source": [
    "function teste_qr(k)\n",
    "    Tudo_certo=true\n",
    "    for n=1:k\n",
    "        for m=1:k\n",
    "            A=randn(n,m)\n",
    "            Q,R=decomposição_qr(A)\n",
    "            if norm(A-Q*R)>0.00001\n",
    "                if Q*Q'!=I\n",
    "                    Tudo_certo=false\n",
    "                end\n",
    "            end\n",
    "        end\n",
    "    end\n",
    "        \n",
    "    return Tudo_certo\n",
    "end"
   ]
  },
  {
   "cell_type": "code",
   "execution_count": null,
   "metadata": {},
   "outputs": [],
   "source": [
    "function teste_lu(k)\n",
    "    Tudo_certo=true\n",
    "    for n=1:k\n",
    "        for m=1:k\n",
    "            A=randn(n,m)\n",
    "            L,U=decomposição_lu(A)\n",
    "            if norm(A-L*U)>0.00001\n",
    "                # L é triangular inferior?\n",
    "                # U é triangular superior?\n",
    "                Tudo_certo=false\n",
    "            end\n",
    "        end\n",
    "    end\n",
    "    \n",
    "    return Tudo_certo\n",
    "end"
   ]
  },
  {
   "cell_type": "code",
   "execution_count": null,
   "metadata": {},
   "outputs": [],
   "source": [
    "function teste_SVD()      # Teste básico ainda!!!\n",
    "    pontos=[1 2 3; 2 4 6 ; 3 6 9; 4 8 12]\n",
    "    v=SVD(pontos')\n",
    "    println(\"O vetor v é \", v)\n",
    "    a=v=v/v[1]\n",
    "    println(a)\n",
    "    println()\n",
    "\n",
    "    pontos=[1 2 3; 2 4 6 ; 3 6 9; 4 8 15]\n",
    "    v=SVD(pontos')\n",
    "    println(\"O vetor v é \", v)\n",
    "    a=v=v/v[1]\n",
    "    println(a)\n",
    "    println()\n",
    "end"
=======
   "source": [
    "#Teste da função de transposta\n",
    "\n",
    "#Verificando uma matriz aleatória 100x100\n",
    "a = rand(100,100)\n",
    "a_transposta = transposta(a)\n",
    "println(verificacao_transposta(a, a_transposta))\n",
    "\n",
    "#Verificando um vetor 100x1\n",
    "a = rand(100,1)\n",
    "a_transposta = transposta(a)\n",
    "println(verificacao_transposta(a, a_transposta))\n",
    "\n",
    "#Verificando um vetor 1x100\n",
    "a = rand(1,100)\n",
    "a_transposta = transposta(a)\n",
    "println(verificacao_transposta(a, a_transposta))\n",
    "\n",
    "#Verificando um vetor nulo (0)\n",
    "a = [0]\n",
    "a_transposta = transposta(a)\n",
    "println(verificacao_transposta(a, a_transposta))"
>>>>>>> 03b6264c8313decf11e200cd54b9a6df19bc8bcd
   ]
  },
  {
   "cell_type": "code",
   "execution_count": null,
   "metadata": {},
   "outputs": [],
   "source": [
<<<<<<< HEAD
    "function teste_dinamica(k)\n",
    "    Tudo_certo=true\n",
    "\n",
    "    # Uma dinâmica aplicada no vetor nulo sempre dará como resposta o vetor nulo.\n",
    "    for n=2:k\n",
    "        A=randn(n,n)                # Matriz A qualquer\n",
    "        x0=zeros(n,1)               # Dado inicial nulo\n",
    "        for i=1:k\n",
    "            x=dinamica(A,x0,i)      # Resultado da dinâmica\n",
    "            if norm(x)>0.00001      # Verificação se o resultado continua sendo o vetor nulo\n",
    "                Tudo_certo=false    \n",
    "            end\n",
    "        end\n",
    "    end\n",
    "\n",
    "    # Se a matriz for a identidade então ela não irá alterar o vetor.\n",
    "    for n=2:k\n",
    "        A=zeros(n,n)                  \n",
    "        for i=1:n A[i,i]=1 end       # Matriz A identidade\n",
    "        x0=randn(n,1)                # Dado inicial qualquer\n",
    "        for i=1:k\n",
    "            x=dinamica(A,x0,i)       # Resultado da dinâmica\n",
    "            if norm(x0-x)>0.00001    # Verifica se o resultado continua sendo o dado inicial\n",
    "                Tudo_certo=false\n",
    "            end\n",
    "        end\n",
    "    end\n",
    "\n",
    "    return Tudo_certo   \n",
    "end\n"
=======
    "#Teste da função de inversa\n",
    "\n",
    "\n",
    "#Verificando uma matriz aleatória 100x100\n",
    "a = rand(100,100)\n",
    "a_inversa = inversa(a)\n",
    "println(testa_matriz_inversa(a, a_inversa))\n",
    "\n",
    "#Verificando um vetor 1x100\n",
    "a = rand(1,100)\n",
    "inversa(a)\n",
    "\n",
    "#Verificando um vetor nulo (0)\n",
    "a = [0]\n",
    "inversa(a)\n"
>>>>>>> 03b6264c8313decf11e200cd54b9a6df19bc8bcd
   ]
  }
 ],
 "metadata": {
  "kernelspec": {
   "display_name": "Julia 1.4.2",
   "language": "julia",
   "name": "julia-1.4"
  },
  "language_info": {
   "file_extension": ".jl",
   "mimetype": "application/julia",
   "name": "julia",
   "version": "1.4.2"
  }
 },
 "nbformat": 4,
 "nbformat_minor": 4
}
