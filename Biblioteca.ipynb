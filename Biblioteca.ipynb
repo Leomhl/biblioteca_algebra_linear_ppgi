{
 "cells": [
  {
   "cell_type": "code",
   "execution_count": 5,
   "metadata": {},
   "outputs": [
    {
     "ename": "AssertionError",
     "evalue": "AssertionError: mA == nB",
     "output_type": "error",
     "traceback": [
      "AssertionError: mA == nB",
      "",
      "Stacktrace:",
      " [1] multiplicar_matrizes(::Array{Float64,2}, ::Array{Int64,2}) at /Users/leonardomarinho/vitoria/biblioteca_algebra_linear_ppgi/AlgebraPpgi.jl:54",
      " [2] top-level scope at In[5]:6"
     ]
    }
   ],
   "source": [
    "# iniciar nossa biblioteca aqui :D\n",
    "\n",
    "include(\"AlgebraPpgi.jl\")\n",
    "\n"
   ]
  },
  {
   "cell_type": "code",
   "execution_count": 30,
   "metadata": {},
   "outputs": [
    {
     "name": "stdout",
     "output_type": "stream",
     "text": [
      "63\n",
      "Passou no teste, deu o mesmo resultado :D"
     ]
    }
   ],
   "source": [
    "# Teste da função de produto interno\n",
    "\n",
    "a = [ 2, 5, 8];\n",
    "b = [ 1, 1, 7];\n",
    "\n",
    "println(produto_interno(a,b))\n",
    "\n",
    "if(produto_interno(a,b) == a' * b)\n",
    "    print(\"Passou no teste, deu o mesmo resultado :D\")\n",
    "else\n",
    "    print(\"Não passou no teste, resultados diferentes :(\")\n",
    "end"
   ]
  },
  {
   "cell_type": "code",
   "execution_count": 29,
   "metadata": {},
   "outputs": [
    {
     "ename": "BoundsError",
     "evalue": "BoundsError: attempt to access 1×1 Array{Float64,2} at index [0]",
     "output_type": "error",
     "traceback": [
      "BoundsError: attempt to access 1×1 Array{Float64,2} at index [0]",
      "",
      "Stacktrace:",
      " [1] getindex(::Array{Float64,2}, ::Int64) at ./array.jl:788",
      " [2] top-level scope at In[29]:6"
     ]
    }
   ],
   "source": [
    "# Teste da função de cálculo de norma\n",
    "# |v| = √(a2 + b2)\n",
    "\n",
    "v = [2 3];\n",
    "v = sqrt(v*v');\n",
    "\n",
    "println(v[0])\n",
    "println(norma([2 3]))\n",
    "\n",
    "# if(norma([2 3]) == v[0])\n",
    "#     print(\"Passou no teste, deu o mesmo resultado :D\")\n",
    "# else\n",
    "#     print(\"Não passou no teste, resultados diferentes :(\")\n",
    "# end"
   ]
  },
  {
   "cell_type": "code",
   "execution_count": null,
   "metadata": {},
   "outputs": [],
   "source": [
    "A = randn(2,3)\n",
    "multiplicar_matrizes(A, [0 0 0])"
   ]
  },
  {
   "cell_type": "code",
   "execution_count": null,
   "metadata": {},
   "outputs": [],
   "source": [
    "#Teste da função de transposta\n",
    "\n",
    "#Verificando uma matriz aleatória 100x100\n",
    "a = rand(100,100)\n",
    "a_transposta = transposta(a)\n",
    "println(verificacao_transposta(a, a_transposta))\n",
    "\n",
    "#Verificando um vetor 100x1\n",
    "a = rand(100,1)\n",
    "a_transposta = transposta(a)\n",
    "println(verificacao_transposta(a, a_transposta))\n",
    "\n",
    "#Verificando um vetor 1x100\n",
    "a = rand(1,100)\n",
    "a_transposta = transposta(a)\n",
    "println(verificacao_transposta(a, a_transposta))\n",
    "\n",
    "#Verificando um vetor nulo (0)\n",
    "a = [0]\n",
    "a_transposta = transposta(a)\n",
    "println(verificacao_transposta(a, a_transposta))"
   ]
  },
  {
   "cell_type": "code",
   "execution_count": null,
   "metadata": {},
   "outputs": [],
   "source": [
    "#Teste da função de inversa\n",
    "\n",
    "\n",
    "#Verificando uma matriz aleatória 100x100\n",
    "a = rand(100,100)\n",
    "a_inversa = inversa(a)\n",
    "println(testa_matriz_inversa(a, a_inversa))\n",
    "\n",
    "#Verificando um vetor 1x100\n",
    "a = rand(1,100)\n",
    "inversa(a)\n",
    "\n",
    "#Verificando um vetor nulo (0)\n",
    "a = [0]\n",
    "inversa(a)\n"
   ]
  }
 ],
 "metadata": {
  "kernelspec": {
   "display_name": "Julia 1.4.2",
   "language": "julia",
   "name": "julia-1.4"
  },
  "language_info": {
   "file_extension": ".jl",
   "mimetype": "application/julia",
   "name": "julia",
   "version": "1.4.2"
  }
 },
 "nbformat": 4,
 "nbformat_minor": 4
}
