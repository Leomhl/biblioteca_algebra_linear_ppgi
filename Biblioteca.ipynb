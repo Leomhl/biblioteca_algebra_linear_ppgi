{
 "cells": [
  {
   "cell_type": "code",
   "execution_count": 1,
   "metadata": {},
   "outputs": [
    {
     "data": {
      "text/plain": [
       "simulacao_LU1 (generic function with 1 method)"
      ]
     },
     "execution_count": 1,
     "metadata": {},
     "output_type": "execute_result"
    }
   ],
   "source": [
    "include(\"AlgebraPpgi.jl\")"
   ]
  },
  {
   "cell_type": "markdown",
   "metadata": {},
   "source": [
    "## Testes"
   ]
  },
  {
   "cell_type": "markdown",
   "metadata": {},
   "source": [
    "### Norma de Matrizes"
   ]
  },
  {
   "cell_type": "code",
   "execution_count": 2,
   "metadata": {},
   "outputs": [
    {
     "data": {
      "text/plain": [
       "-4.440892098500626e-16"
      ]
     },
     "execution_count": 2,
     "metadata": {},
     "output_type": "execute_result"
    }
   ],
   "source": [
    "#Norma de matriz aleatória\n",
    "#Resultado esperado da subtração: 0\n",
    "#Autor do teste: Danilo\n",
    "A =rand(5,5)\n",
    "norma_matriz(A) - sqrt(sum(vec(A).^2))"
   ]
  },
  {
   "cell_type": "code",
   "execution_count": 3,
   "metadata": {},
   "outputs": [
    {
     "data": {
      "text/plain": [
       "0.0"
      ]
     },
     "execution_count": 3,
     "metadata": {},
     "output_type": "execute_result"
    }
   ],
   "source": [
    "#Norma de matriz nula\n",
    "#Resultado esperado: 0\n",
    "#Autor do teste: Danilo\n",
    "A = zeros(10,10)\n",
    "norma_matriz(A)"
   ]
  },
  {
   "cell_type": "code",
   "execution_count": 4,
   "metadata": {},
   "outputs": [
    {
     "data": {
      "text/plain": [
       "10.0"
      ]
     },
     "execution_count": 4,
     "metadata": {},
     "output_type": "execute_result"
    }
   ],
   "source": [
    "#Norma de matriz composta apenas por 1, dimensões 10x10\n",
    "#Resultado esperado: 10\n",
    "#Autor do teste: Danilo\n",
    "A = ones(Integer, (10,10))\n",
    "norma_matriz(A)"
   ]
  },
  {
   "cell_type": "markdown",
   "metadata": {},
   "source": [
    "### Soma de Matrizes"
   ]
  },
  {
   "cell_type": "code",
   "execution_count": 5,
   "metadata": {},
   "outputs": [
    {
     "data": {
      "text/plain": [
       "0.0"
      ]
     },
     "execution_count": 5,
     "metadata": {},
     "output_type": "execute_result"
    }
   ],
   "source": [
    "#Soma de matrizes quadradas aleatórias\n",
    "#Resultado esperado ao final do teste: 0\n",
    "#Autor do teste: Danilo\n",
    "A =rand(5,5)\n",
    "B =rand(5,5)\n",
    "soma = soma_matrizes(A,B)\n",
    "norma_matriz(soma-A-B)"
   ]
  },
  {
   "cell_type": "code",
   "execution_count": 6,
   "metadata": {},
   "outputs": [
    {
     "ename": "AssertionError",
     "evalue": "AssertionError: size(A) == size(B) && ndims(A) == 2",
     "output_type": "error",
     "traceback": [
      "AssertionError: size(A) == size(B) && ndims(A) == 2",
      "",
      "Stacktrace:",
      " [1] soma_matrizes(::Array{Float64,2}, ::Array{Float64,2}) at /home/danilo/Desktop/al/biblioteca_algebra_linear_ppgi/AlgebraPpgi.jl:69",
      " [2] top-level scope at In[6]:6"
     ]
    }
   ],
   "source": [
    "#Soma de matrizes de tamamos diferentes\n",
    "#Resultado esperado ao final do teste: AssertionError\n",
    "#Autor do teste: Danilo\n",
    "A =rand(10,5)\n",
    "B =rand(5,5)\n",
    "soma = soma_matrizes(A,B)"
   ]
  },
  {
   "cell_type": "markdown",
   "metadata": {},
   "source": [
    "### Multiplicação de Matrizes"
   ]
  },
  {
   "cell_type": "code",
   "execution_count": 7,
   "metadata": {},
   "outputs": [
    {
     "data": {
      "text/plain": [
       "6.753223014464259e-16"
      ]
     },
     "execution_count": 7,
     "metadata": {},
     "output_type": "execute_result"
    }
   ],
   "source": [
    "#multiplicação de matrizes aleatórias de mesmo tamanho\n",
    "#Resultado esperado da subtração: 0\n",
    "#Autor do teste: Danilo\n",
    "A = rand(5,5)\n",
    "B = rand(5,5)\n",
    "norma_matriz(multiplicar_matrizes(A, B) - A*B)"
   ]
  },
  {
   "cell_type": "code",
   "execution_count": 8,
   "metadata": {},
   "outputs": [
    {
     "ename": "AssertionError",
     "evalue": "AssertionError: mA == nB",
     "output_type": "error",
     "traceback": [
      "AssertionError: mA == nB",
      "",
      "Stacktrace:",
      " [1] multiplicar_matrizes(::Array{Float64,2}, ::Array{Float64,2}) at /home/danilo/Desktop/al/biblioteca_algebra_linear_ppgi/AlgebraPpgi.jl:113",
      " [2] top-level scope at In[8]:6"
     ]
    }
   ],
   "source": [
    "#multiplicação de matrizes aleatórias de tamanhos diferentes\n",
    "#Resultado esperado: AssertionError\n",
    "#Autor do teste: Danilo\n",
    "A = rand(10,5)\n",
    "B = rand(5,5)\n",
    "multiplicar_matrizes(A, B)"
   ]
  },
  {
   "cell_type": "code",
   "execution_count": 9,
   "metadata": {},
   "outputs": [
    {
     "data": {
      "text/plain": [
       "0.0"
      ]
     },
     "execution_count": 9,
     "metadata": {},
     "output_type": "execute_result"
    }
   ],
   "source": [
    "#multiplicação de matriz nula por matriz aleatória\n",
    "#Resultado esperado da norma: 0\n",
    "#Autor do teste: Danilo\n",
    "A = zeros(5,5)\n",
    "B = rand(5,5)\n",
    "norma_matriz(multiplicar_matrizes(A, B))"
   ]
  },
  {
   "cell_type": "markdown",
   "metadata": {},
   "source": [
    "### Matriz Transposta"
   ]
  },
  {
   "cell_type": "code",
   "execution_count": 10,
   "metadata": {},
   "outputs": [
    {
     "data": {
      "text/plain": [
       "true"
      ]
     },
     "execution_count": 10,
     "metadata": {},
     "output_type": "execute_result"
    }
   ],
   "source": [
    "#Verificando uma matriz aleatória 100x100\n",
    "#Resultado esperado: true\n",
    "#Autor do teste: Danilo\n",
    "a = rand(100,100)\n",
    "a_transposta = transposta(a)\n",
    "a_transposta_transposta=transposta(a_transposta)\n",
    "a == a_transposta_transposta"
   ]
  },
  {
   "cell_type": "code",
   "execution_count": 11,
   "metadata": {},
   "outputs": [
    {
     "data": {
      "text/plain": [
       "true"
      ]
     },
     "execution_count": 11,
     "metadata": {},
     "output_type": "execute_result"
    }
   ],
   "source": [
    "#Verificando um vetor 100x1\n",
    "#Resultado esperado: true\n",
    "#Autor do teste: Danilo\n",
    "a = rand(100,1)\n",
    "a_transposta = transposta(a)\n",
    "a_transposta_transposta=transposta(a_transposta)\n",
    "a == a_transposta_transposta"
   ]
  },
  {
   "cell_type": "code",
   "execution_count": 12,
   "metadata": {},
   "outputs": [
    {
     "data": {
      "text/plain": [
       "true"
      ]
     },
     "execution_count": 12,
     "metadata": {},
     "output_type": "execute_result"
    }
   ],
   "source": [
    "#Verificando um vetor unitario nulo\n",
    "#Resultado esperado: true\n",
    "#Autor do teste: Danilo\n",
    "a = [0]\n",
    "a_transposta = transposta(a)\n",
    "a_transposta_transposta=transposta(a_transposta)\n",
    "a == a_transposta_transposta"
   ]
  },
  {
   "cell_type": "markdown",
   "metadata": {},
   "source": [
    "### Produto Interno"
   ]
  },
  {
   "cell_type": "code",
   "execution_count": 13,
   "metadata": {},
   "outputs": [
    {
     "name": "stdout",
     "output_type": "stream",
     "text": [
      "63\n",
      "Passou no teste, deu o mesmo resultado :D"
     ]
    }
   ],
   "source": [
    "# Teste da função de produto interno\n",
    "# Autor do teste: Léo\n",
    "\n",
    "a = [ 2, 5, 8];\n",
    "b = [ 1, 1, 7];\n",
    "\n",
    "println(produto_interno(a,b))\n",
    "\n",
    "if(produto_interno(a,b) == a' * b)\n",
    "    print(\"Passou no teste, deu o mesmo resultado :D\")\n",
    "else\n",
    "    print(\"Não passou no teste, resultados diferentes :(\")\n",
    "end"
   ]
  },
  {
   "cell_type": "markdown",
   "metadata": {},
   "source": [
    "### Vetores Perpendiculares"
   ]
  },
  {
   "cell_type": "code",
   "execution_count": 14,
   "metadata": {},
   "outputs": [
    {
     "data": {
      "text/plain": [
       "true"
      ]
     },
     "execution_count": 14,
     "metadata": {},
     "output_type": "execute_result"
    }
   ],
   "source": [
    "# Teste da função de vetores perpendiculares\n",
    "# Vetores canônicos em R2\n",
    "# Resultado esperado: true\n",
    "# Autor do teste: Danilo\n",
    "v1 = [1,0]\n",
    "v2 = [0,1]\n",
    "vetores_perpendiculares(v1,v2)"
   ]
  },
  {
   "cell_type": "code",
   "execution_count": 15,
   "metadata": {},
   "outputs": [
    {
     "data": {
      "text/plain": [
       "false"
      ]
     },
     "execution_count": 15,
     "metadata": {},
     "output_type": "execute_result"
    }
   ],
   "source": [
    "# Teste da função de vetores perpendiculares\n",
    "# Vetores iguais\n",
    "# Resultado esperado: false\n",
    "# Autor do teste: Danilo\n",
    "v1 = rand(2)\n",
    "vetores_perpendiculares(v1,v1)"
   ]
  },
  {
   "cell_type": "markdown",
   "metadata": {},
   "source": [
    "### Matriz é ortogonal"
   ]
  },
  {
   "cell_type": "code",
   "execution_count": 16,
   "metadata": {},
   "outputs": [
    {
     "data": {
      "text/plain": [
       "true"
      ]
     },
     "execution_count": 16,
     "metadata": {},
     "output_type": "execute_result"
    }
   ],
   "source": [
    "# Teste da função de matriz ortogonal\n",
    "# Vetores canônicos em r2\n",
    "# Resultado esperado: true\n",
    "# Autor do teste: Danilo\n",
    "ortogonal([1 0;0 1])"
   ]
  },
  {
   "cell_type": "code",
   "execution_count": 17,
   "metadata": {},
   "outputs": [
    {
     "data": {
      "text/plain": [
       "true"
      ]
     },
     "execution_count": 17,
     "metadata": {},
     "output_type": "execute_result"
    }
   ],
   "source": [
    "# Teste da função de matriz ortogonal\n",
    "# matriz identidade de ordem 10\n",
    "# Resultado esperado: true\n",
    "# Autor do teste: Danilo\n",
    "\n",
    "ortogonal(identidade1(10))"
   ]
  },
  {
   "cell_type": "markdown",
   "metadata": {},
   "source": [
    "### Decomposição QR"
   ]
  },
  {
   "cell_type": "code",
   "execution_count": 18,
   "metadata": {},
   "outputs": [
    {
     "data": {
      "text/plain": [
       "true"
      ]
     },
     "execution_count": 18,
     "metadata": {},
     "output_type": "execute_result"
    }
   ],
   "source": [
    "# Decomposição QR\n",
    "# Resultado esperado: true\n",
    "# Autor do teste:Gastão\n",
    "function teste_qr(k)\n",
    "    Tudo_certo=true\n",
    "    for n=1:k\n",
    "        for m=1:k\n",
    "            A=randn(n,m)\n",
    "            Q,R=decomposição_qr(A)\n",
    "            if norma_matriz(A-Q*R)>0.00001\n",
    "                if Q*Q'!=I\n",
    "                    Tudo_certo=false\n",
    "                end\n",
    "            end\n",
    "        end\n",
    "    end\n",
    "        \n",
    "    return Tudo_certo\n",
    "end\n",
    "teste_qr(10)"
   ]
  },
  {
   "cell_type": "markdown",
   "metadata": {},
   "source": [
    "### Decomposição LU\n"
   ]
  },
  {
   "cell_type": "code",
   "execution_count": 19,
   "metadata": {},
   "outputs": [
    {
     "data": {
      "text/plain": [
       "true"
      ]
     },
     "execution_count": 19,
     "metadata": {},
     "output_type": "execute_result"
    }
   ],
   "source": [
    "# Decomposição LU\n",
    "# Resultado esperado: true\n",
    "# Autor do teste:Gastão\n",
    "function teste_lu(k)\n",
    "    Tudo_certo=true\n",
    "    for n=1:k\n",
    "        for m=1:k\n",
    "            A=randn(n,m)\n",
    "            L,U=LU(A)\n",
    "            if norma_matriz(A-L*U)>0.00001 Tudo_certo=false end   # A=LU?\n",
    "            if e_triangular_inferior(L)==false Tudo_certo=false end   # L é triangular inferior?\n",
    "            if e_triangular_superior(U)==false Tudo_certo=false end    # U é triangular superior?\n",
    "        end\n",
    "    end\n",
    "    \n",
    "    return Tudo_certo\n",
    "end\n",
    "teste_lu(10)"
   ]
  },
  {
   "cell_type": "markdown",
   "metadata": {},
   "source": [
    "### SVD"
   ]
  },
  {
   "cell_type": "code",
   "execution_count": 20,
   "metadata": {},
   "outputs": [
    {
     "name": "stdout",
     "output_type": "stream",
     "text": [
      "O vetor v é: [0.2672612419124244, 0.5345224838248488, 0.8017837257372732]\n",
      "\n",
      "O 1o ponto é:\n",
      "[1, 2, 3]\n",
      "O vetor v*(1/v[1]) é:\n",
      "[1.0, 2.0, 3.0]\n",
      "\n",
      "O 2o ponto é:\n",
      "[2, 4, 6]\n",
      "O vetor v*(2/v[1]) é:\n",
      "[2.0, 4.0, 6.0]\n",
      "\n",
      "O 3o ponto é:\n",
      "[3, 6, 9]\n",
      "O vetor v*(3/v[1]) é:\n",
      "[3.0, 6.0, 9.0]\n",
      "\n",
      "O 4o ponto é:\n",
      "[4, 8, 12]\n",
      "O vetor v*(4/v[1]) é:\n",
      "[4.0, 8.0, 12.0]\n",
      "\n",
      "Os pontos são colineares!\n",
      "\n",
      "\n",
      "O vetor v é: [0.2442895537831185, 0.488579107566237, 0.8376234652648075]\n",
      "\n",
      "O 1o ponto é:\n",
      "[1, 2, 3]\n",
      "O vetor v*(1/v[1]) é:\n",
      "[1.0, 2.0, 3.428814094967212]\n",
      "\n",
      "O 2o ponto é:\n",
      "[2, 4, 6]\n",
      "O vetor v*(2/v[1]) é:\n",
      "[2.0, 4.0, 6.857628189934424]\n",
      "\n",
      "O 3o ponto é:\n",
      "[3, 6, 9]\n",
      "O vetor v*(3/v[1]) é:\n",
      "[3.0, 6.0, 10.286442284901636]\n",
      "\n",
      "O 4o ponto é:\n",
      "[4, 8, 15]\n",
      "O vetor v*(4/v[1]) é:\n",
      "[4.0, 8.0, 13.715256379868848]\n",
      "\n",
      "Os pontos não são colineares!\n",
      "\n",
      "\n",
      "O vetor v é: [0.3436448309532253, 0.12303697273406916, 0.5518334864187193, 0.6957776191252484, 0.2795414843827785]\n",
      "\n",
      "O 1o ponto é:\n",
      "[0.14139779456003487, 0.17939904119360972, 0.42213777065932256, 0.7185402210252936, 0.03564269049547342]\n",
      "O vetor v*(0.14139779456003487/v[1]) é:\n",
      "[0.14139779456003487, 0.05062539874580133, 0.22706012404592968, 0.2862880857996467, 0.11502151587766325]\n",
      "\n",
      "O 2o ponto é:\n",
      "[0.768491350345587, 0.1246805779430844, 0.4195467353278395, 0.15600583238156562, 0.17233145079290235]\n",
      "O vetor v*(0.768491350345587/v[1]) é:\n",
      "[0.768491350345587, 0.27514701459806884, 1.2340626802605907, 1.5559642802675517, 0.6251373320967306]\n",
      "\n",
      "O 3o ponto é:\n",
      "[0.16631099396643867, 0.05115490739080242, 0.5957420003431784, 0.8293905412955864, 0.4579720930350957]\n",
      "O vetor v*(0.16631099396643867/v[1]) é:\n",
      "[0.16631099396643867, 0.05954520303205103, 0.2670663643497504, 0.33672983555534025, 0.1352874186804853]\n",
      "\n",
      "Os pontos não são colineares!\n"
     ]
    }
   ],
   "source": [
    "# Decomposição LU\n",
    "# Resultado esperado: true\n",
    "# Autor do teste:Gastão\n",
    "function teste_SVD(pontos)\n",
    "    colineares=true\n",
    "    v=SVD(pontos')\n",
    "    println(\"O vetor v é: \", v)\n",
    "    println()\n",
    "    for i=1:length(pontos[:,1])\n",
    "        a=v*(pontos[i,1]/v[1])\n",
    "        if norma_vetor(pontos[i,:]-a)>0.001 colineares=false end\n",
    "        println(\"O \", i, \"o ponto é:\")\n",
    "        println(pontos[i,:])\n",
    "        println(\"O vetor v*(\", pontos[i,1], \"/v[1]) é:\")\n",
    "        println(a)\n",
    "        println()\n",
    "    end\n",
    "    if colineares\n",
    "        println(\"Os pontos são colineares!\")\n",
    "    else\n",
    "        println(\"Os pontos não são colineares!\")\n",
    "    end\n",
    "end\n",
    "\n",
    "\n",
    "teste_SVD([1 2 3; 2 4 6 ; 3 6 9; 4 8 12])\n",
    "\n",
    "println()\n",
    "println()\n",
    "\n",
    "teste_SVD([1 2 3; 2 4 6 ; 3 6 9; 4 8 15])\n",
    "\n",
    "println()\n",
    "println()\n",
    "\n",
    "teste_SVD(rand(3,5))"
   ]
  },
  {
   "cell_type": "markdown",
   "metadata": {},
   "source": [
    "#### SISTEMAS DINÂMICOS LINEARES"
   ]
  },
  {
   "cell_type": "code",
   "execution_count": 21,
   "metadata": {},
   "outputs": [
    {
     "data": {
      "text/plain": [
       "true"
      ]
     },
     "execution_count": 21,
     "metadata": {},
     "output_type": "execute_result"
    }
   ],
   "source": [
    "# SISTEMAS DINÂMICOS LINEARES\n",
    "# resultado esperado: true\n",
    "# Autor do teste:Gastão\n",
    "function teste_dinamica(k)\n",
    "    Tudo_certo=true\n",
    "\n",
    "    # Uma dinâmica aplicada no vetor nulo sempre dará como resposta o vetor nulo.\n",
    "    for n=2:k\n",
    "        A=randn(n,n)                # Matriz A qualquer\n",
    "        x0=zeros(n,1)               # Dado inicial nulo\n",
    "        for i=1:k\n",
    "            x=dinamica(A,x0,i)      # Resultado da dinâmica\n",
    "            if norma_matriz(x)>0.00001      # Verificação se o resultado continua sendo o vetor nulo\n",
    "                Tudo_certo=false    \n",
    "            end\n",
    "        end\n",
    "    end\n",
    "\n",
    "    # Se a matriz for a identidade então ela não irá alterar o vetor.\n",
    "    for n=2:k\n",
    "        A=zeros(n,n)                  \n",
    "        for i=1:n A[i,i]=1 end       # Matriz A identidade\n",
    "        x0=randn(n,1)                # Dado inicial qualquer\n",
    "        for i=1:k\n",
    "            x=dinamica(A,x0,i)       # Resultado da dinâmica\n",
    "            if norma_matriz(x0-x)>0.00001    # Verifica se o resultado continua sendo o dado inicial\n",
    "                Tudo_certo=false\n",
    "            end\n",
    "        end\n",
    "    end\n",
    "\n",
    "    return Tudo_certo   \n",
    "end\n",
    "teste_dinamica(10)"
   ]
  },
  {
   "cell_type": "markdown",
   "metadata": {},
   "source": [
    "### Formatar Real\n",
    "#### Autor: Pablo"
   ]
  },
  {
   "cell_type": "code",
   "execution_count": 22,
   "metadata": {},
   "outputs": [
    {
     "name": "stdout",
     "output_type": "stream",
     "text": [
      "    4.00\n",
      "    4.0000000000\n",
      "    3.1416\n",
      "    3.14159265358979360000\n"
     ]
    }
   ],
   "source": [
    "X = 4;\n",
    "println(formatarReal(X,5,2))\n",
    "println(formatarReal(X,5,10))\n",
    "X = pi\n",
    "println(formatarReal(X,5,4))\n",
    "println(formatarReal(X,5,20))\n"
   ]
  },
  {
   "cell_type": "markdown",
   "metadata": {},
   "source": [
    "### Imprime Matriz\n",
    "#### Autor: Pablo\n"
   ]
  },
  {
   "cell_type": "code",
   "execution_count": 23,
   "metadata": {},
   "outputs": [
    {
     "name": "stdout",
     "output_type": "stream",
     "text": [
      "   -0.197    0.594   -1.030    0.327   -0.808    1.097    0.796   -0.677    0.976   -1.131\n",
      "    0.594   -1.055   -0.543    0.201    0.663   -0.747   -1.484    1.284   -1.342   -0.783\n",
      "    0.242    1.147   -0.833    0.387   -0.277   -0.705    1.181   -1.312    0.783   -0.017\n",
      "   -0.202   -1.795    0.058   -0.595    0.245   -0.744    0.180   -1.187   -0.129    0.730\n",
      "    0.733    1.201   -0.837    0.560    0.237    1.387    0.419    0.131    1.921    0.256\n",
      "   -0.560    0.963   -0.109    0.302   -0.390    0.029   -0.684    1.396    0.189   -2.023\n",
      "   -0.157    0.090   -1.016    1.850   -0.897   -0.025    2.649    1.064    1.017    0.753\n",
      "   -1.207   -1.667   -0.182    0.251    0.979    1.119   -0.260    0.040   -0.487   -0.420\n",
      "    1.165    1.580    0.222    1.798   -2.229   -0.130   -0.148   -0.557    0.915    0.228\n",
      "    0.553    0.435    0.699   -1.078   -0.082   -0.217    0.279    0.230   -0.266   -1.165\n"
     ]
    }
   ],
   "source": [
    "A = randn(10,10);\n",
    "imprimeMatriz(A,5,3);"
   ]
  },
  {
   "cell_type": "markdown",
   "metadata": {},
   "source": [
    "### Matriz para Texto\n",
    "#### Autor: Pablo"
   ]
  },
  {
   "cell_type": "code",
   "execution_count": 24,
   "metadata": {},
   "outputs": [],
   "source": [
    "A = randn(100,100);\n",
    "matrizParaTexto(A,7,4,\"Matriz_A.TXT\");"
   ]
  },
  {
   "cell_type": "markdown",
   "metadata": {},
   "source": [
    "### Matriz para HTML\n",
    "#### Autor: Pablo"
   ]
  },
  {
   "cell_type": "code",
   "execution_count": 25,
   "metadata": {},
   "outputs": [],
   "source": [
    "A = randn(100,100);\n",
    "matrizParaHTML(A,5,\"Matriz_A.HTML\",true,true,\"Matriz A\");"
   ]
  },
  {
   "cell_type": "markdown",
   "metadata": {},
   "source": [
    "### Decomposição QR\n",
    "#### Autor: Pablo"
   ]
  },
  {
   "cell_type": "code",
   "execution_count": 26,
   "metadata": {},
   "outputs": [
    {
     "name": "stdout",
     "output_type": "stream",
     "text": [
      "   -0.068    1.308    0.518    0.031    0.841    0.129   -0.030   -0.460    0.081   -1.243\n",
      "    0.205    0.803   -0.540   -0.020    0.474   -0.297    0.081   -2.501   -0.277   -0.630\n",
      "   -0.467    0.583   -0.349    1.365   -0.472   -0.995    0.412   -1.147   -0.042    0.264\n",
      "    0.861    0.274    0.105    0.207   -0.753   -0.298   -0.960    0.171    1.234    0.716\n",
      "    0.014   -0.918    1.354    1.166   -0.504   -0.570    1.077    0.885   -0.064    2.044\n",
      "    0.784    3.019   -0.873    0.470    1.389    0.367    1.467    1.630   -0.559    0.845\n",
      "   -0.348   -0.430    0.601   -2.064   -0.853    0.486   -0.192    0.270   -0.846    0.124\n",
      "   -0.195    0.442    1.163   -0.569    0.506    0.965   -1.115    0.051   -0.982   -0.504\n",
      "   -0.199    0.169   -1.287   -0.345    2.041    0.534    1.576    0.600    1.888    0.892\n",
      "    1.506    0.690    0.807   -0.282    1.808   -0.437    1.088    0.160   -0.132   -2.749\n",
      "   -0.033    0.418    0.403   -0.012    0.175   -0.216   -0.213    0.204    0.421   -0.566\n",
      "    0.101    0.193   -0.143   -0.052   -0.037   -0.351   -0.225   -0.863    0.094    0.001\n",
      "   -0.231    0.299    0.015    0.458   -0.124   -0.546   -0.053    0.252    0.001    0.518\n",
      "    0.426   -0.140   -0.061    0.058   -0.467    0.180   -0.227    0.103    0.655    0.224\n",
      "    0.007   -0.285    0.423    0.484    0.163    0.035    0.559   -0.298    0.277    0.005\n",
      "    0.388    0.721   -0.068    0.035   -0.144    0.267    0.462   -0.022   -0.132    0.033\n",
      "   -0.172   -0.042    0.243   -0.691   -0.288   -0.328    0.432    0.023    0.161    0.169\n",
      "   -0.096    0.186    0.567   -0.174    0.227    0.405   -0.332   -0.145   -0.044    0.505\n",
      "   -0.099    0.103   -0.468   -0.167    0.649    0.046    0.160    0.062    0.468    0.247\n",
      "    0.745   -0.179    0.176   -0.112    0.363   -0.391   -0.033    0.155   -0.209    0.126\n",
      "    2.021    1.713    0.237    0.194    1.587   -0.348    0.877    0.746    0.244   -1.545\n",
      "    0.000    3.269   -1.107    0.391    1.568    0.460    0.779   -0.086   -0.517   -0.149\n",
      "    0.000    0.000    2.455   -0.228   -0.555    0.171   -0.828    0.250   -1.662   -0.801\n",
      "    0.000    0.000    0.000    2.834   -0.532   -1.267    0.644   -0.208    0.471    1.389\n",
      "    0.000    0.000    0.000    0.000    2.600    0.417    1.573    0.364    0.723   -0.922\n",
      "    0.000    0.000    0.000    0.000    0.000    1.071   -0.732    1.999    0.192    1.643\n",
      "    0.000    0.000    0.000    0.000    0.000    0.000    1.968    2.121   -0.260    2.219\n",
      "    0.000    0.000    0.000    0.000    0.000    0.000    0.000    1.556    0.623   -0.492\n",
      "    0.000    0.000    0.000    0.000    0.000    0.000    0.000    0.000    1.691    1.375\n",
      "    0.000    0.000    0.000    0.000    0.000    0.000    0.000    0.000    0.000    0.676\n"
     ]
    }
   ],
   "source": [
    "A = randn(10,10);\n",
    "# M A T R I Z   A\n",
    "imprimeMatriz(A,5,3);\n",
    "Q,R = decomposição_qr(A);\n",
    "# M A T R I Z   Q\n",
    "imprimeMatriz(Q,5,3);\n",
    "# M A T R I Z   R\n",
    "imprimeMatriz(R,5,3);\n"
   ]
  },
  {
   "cell_type": "markdown",
   "metadata": {},
   "source": [
    "### Decomposição LU\n",
    "#### Autor: Pablo"
   ]
  },
  {
   "cell_type": "code",
   "execution_count": 27,
   "metadata": {},
   "outputs": [
    {
     "name": "stdout",
     "output_type": "stream",
     "text": [
      "    1.088   -0.829    0.249   -0.149    2.222   -0.049   -0.814    0.601    0.497   -0.266\n",
      "    1.051    0.032   -0.779   -0.220   -2.458   -1.093    0.143    0.676   -0.004    0.250\n",
      "    0.704   -0.755    0.161    1.441    0.387    1.572   -0.734   -0.500   -1.300   -0.532\n",
      "    0.063   -2.350    0.958   -0.970    2.182   -0.365    0.379   -0.513    0.113   -0.416\n",
      "   -0.011   -0.287    0.371    1.073    0.757   -0.733    1.083    0.006    0.097   -0.807\n",
      "    0.810   -0.559    1.555   -0.104   -2.744   -0.365   -0.815    2.100    1.208    0.363\n",
      "    1.335    0.269    0.304    1.414    0.193   -0.359    2.414    0.370   -0.817    0.540\n",
      "    0.959   -1.583   -0.210   -0.231    2.559    0.441   -1.217   -0.663   -0.267   -1.175\n",
      "   -0.581    0.707   -1.334   -1.231   -1.541   -1.588   -0.977   -1.242   -0.335    0.919\n",
      "   -0.007   -1.209    0.400    0.474   -1.108    0.185    0.439    0.300   -0.869   -0.531\n",
      "    1.000    0.000    0.000    0.000    0.000    0.000    0.000    0.000    0.000    0.000\n",
      "    0.966    1.000    0.000    0.000    0.000    0.000    0.000    0.000    0.000    0.000\n",
      "    0.647   -0.263    1.000    0.000    0.000    0.000    0.000    0.000    0.000    0.000\n",
      "    0.058   -2.764    7.000    1.000    0.000    0.000    0.000    0.000    0.000    0.000\n",
      "   -0.010   -0.354   -0.050   -0.095    1.000    0.000    0.000    0.000    0.000    0.000\n",
      "    0.744    0.070   -5.384   -0.694   26.789    1.000    0.000    0.000    0.000    0.000\n",
      "    1.226    1.545   -5.881   -0.902    8.598    0.293    1.000    0.000    0.000    0.000\n",
      "    0.881   -1.025    5.507    0.724   -9.736   -0.354   -0.237    1.000    0.000    0.000\n",
      "   -0.534    0.317    3.281    0.531  -12.230   -0.453   -0.797    5.489    1.000    0.000\n",
      "   -0.006   -1.459    4.056    0.491    2.473    0.085   -0.058   -3.064   -0.020    1.000\n",
      "    1.088   -0.829    0.249   -0.149    2.222   -0.049   -0.814    0.601    0.497   -0.266\n",
      "    0.000    0.833   -1.019   -0.076   -4.604   -1.045    0.929    0.095   -0.484    0.507\n",
      "    0.000    0.000   -0.268    1.518   -2.261    1.329    0.037   -0.864   -1.749   -0.226\n",
      "    0.000    0.000    0.000  -11.794    5.156  -12.555    2.736    5.759   10.985    2.584\n",
      "    0.000    0.000    0.000    0.000   -0.473   -2.229    1.666    0.550    0.887   -0.396\n",
      "    0.000    0.000    0.000    0.000    0.000   57.916  -42.807  -13.736  -24.696   11.705\n",
      "    0.000    0.000    0.000    0.000    0.000    0.000    2.886   -1.099   -1.444    1.056\n",
      "    0.000    0.000    0.000    0.000    0.000    0.000    0.000   -0.283    0.025   -0.501\n",
      "    0.000    0.000    0.000    0.000    0.000    0.000    0.000    0.000   -1.637    4.040\n",
      "    0.000    0.000    0.000    0.000    0.000    0.000    0.000    0.000    0.000   -1.560\n"
     ]
    }
   ],
   "source": [
    "TMP = randn(10,10);\n",
    "# M A T R I Z   A\n",
    "imprimeMatriz(TMP,5,3);\n",
    "\n",
    "A = copy(TMP);\n",
    "L,U = LU(A);\n",
    "# M A T R I Z   L\n",
    "imprimeMatriz(L,5,3);\n",
    "# M A T R I Z   U\n",
    "imprimeMatriz(U,5,3);"
   ]
  },
  {
   "cell_type": "markdown",
   "metadata": {},
   "source": [
    "### Eliminação Gaussiana e Substituição Reversa\n",
    "#### Autor: Pablo"
   ]
  },
  {
   "cell_type": "code",
   "execution_count": 28,
   "metadata": {},
   "outputs": [
    {
     "name": "stdout",
     "output_type": "stream",
     "text": [
      "   -0.923   -0.208    1.157    1.225    0.307   -0.029    1.050    1.135    0.350   -0.561     │    2.005\n",
      "   -0.266   -1.113    2.001    0.762   -0.027   -0.334    1.644   -0.272    0.203    0.596     │    0.091\n",
      "    1.346    0.850   -0.040   -0.697   -0.438   -0.367    0.025   -0.567   -0.365    1.094     │    0.694\n",
      "    0.305    0.350   -0.133   -0.193    0.494   -0.038    0.273   -0.619   -0.995    0.998     │    0.081\n",
      "   -0.119    0.227   -0.555   -0.900    0.259   -0.640    0.414    0.020   -1.074    0.215     │   -0.714\n",
      "   -0.941    0.632   -0.105    1.025    0.152   -1.268    0.321    0.208   -0.107    1.007     │    0.083\n",
      "    0.493    0.055   -1.441    0.686   -0.491    0.408    0.090    0.674    0.024    0.361     │   -0.372\n",
      "    1.117   -0.193    2.020    0.306    1.216   -1.497   -0.083   -0.700    0.236   -2.016     │   -1.066\n",
      "    1.806    0.195    0.013   -0.731   -0.726   -0.789   -1.113   -0.919   -2.350    1.633     │    0.789\n",
      "   -0.200    1.140    2.175    0.196   -0.603   -0.012   -0.274    3.167   -0.012   -0.125     │    0.372\n",
      "   -0.923   -0.208    1.157    1.225    0.307   -0.029    1.050    1.135    0.350   -0.561     │    2.005\n",
      "    0.000   -1.053    1.667    0.409   -0.115   -0.326    1.342   -0.599    0.102    0.758     │   -0.486\n",
      "    0.000    0.000    2.513    1.301   -0.049   -0.578    2.252    0.778    0.199    0.669     │    3.366\n",
      "    0.000    0.000    0.000   -0.039    0.579    0.025    0.356   -0.619   -0.907    0.831     │   -0.317\n",
      "    0.000    0.000    0.000    0.000  -11.660   -1.301   -6.411   12.501   17.501  -16.456     │    5.811\n",
      "    0.000    0.000    0.000    0.000    0.000   -1.538    0.494   -1.715   -0.843    2.557     │   -2.603\n",
      "    0.000    0.000    0.000    0.000    0.000    0.000    2.801    3.019   -1.144   -1.206     │    3.098\n",
      "    0.000    0.000    0.000    0.000    0.000    0.000    0.000    6.350    2.180   -9.246     │    3.818\n",
      "    0.000    0.000    0.000    0.000    0.000    0.000    0.000    0.000   -3.219    2.127     │    2.567\n",
      "    0.000    0.000    0.000    0.000    0.000    0.000    0.000    0.000    0.000    2.336     │   -7.920\n",
      "([-0.9227320912574785 -0.20791687800099026 1.157383846582624 1.2247511517905285 0.3074820523249638 -0.0292311103144874 1.0495448893205754 1.1353901800578097 0.35007279353346876 -0.5606078085858685; 0.0 -1.053433761215641 1.667252357482062 0.4094703617182032 -0.11548164632293426 -0.3260424374639324 1.341898806567043 -0.5985879171757241 0.10243583298588659 0.757511844225236; 0.0 0.0 2.512912320900259 1.3014982200851621 -0.04908415768712249 -0.5784705192631837 2.251991268116096 0.7782303522196501 0.19886278388156542 0.669435809877527; 0.0 0.0 0.0 -0.03921158544180792 0.5785591917338067 0.025180511486534884 0.3557795296861881 -0.6191846868006047 -0.9070392726391645 0.8306330278695434; 0.0 0.0 0.0 0.0 -11.660278296992525 -1.3006001218554488 -6.411497787899737 12.500637447034057 17.500526495161395 -16.45599291975913; -1.232595164407831e-32 0.0 0.0 0.0 0.0 -1.5376223226246248 0.4938956444320003 -1.7146932753097124 -0.8425780541493071 2.556890132943968; 2.6294452026401787e-49 0.0 -6.162975822039155e-33 0.0 9.860761315262648e-32 0.0 2.8008202793395864 3.019034026426289 -1.1435976651519089 -1.2059088069975967; 6.6224806431832586e-49 6.162975822039155e-33 -8.510231239844006e-49 0.0 1.361636998375041e-47 0.0 0.0 6.350398834022067 2.1803353415121203 -9.245933469766815; 1.0135327460776725e-49 1.5440404770049557e-49 4.2111178726383495e-49 0.0 -6.737788596221359e-48 0.0 0.0 0.0 -3.219421561465589 2.1271022738022447; -6.237395233968866e-49 -3.2042509568187728e-49 -1.2668250975645096e-48 1.232595164407831e-32 2.0269201561032153e-47 0.0 0.0 0.0 0.0 2.3361873433173916], [2.004677867689472, -0.4862199323707638, 3.3656103444443763, -0.31722071508247607, 5.811321243444545, -2.603142981689497, 3.097953246009297, 3.8183329826501904, 2.56676278126754, -7.919560123776032])53"
     ]
    }
   ],
   "source": [
    "TMP = randn(10,10);\n",
    "AUX = randn(10);\n",
    "\n",
    "A = copy(TMP);\n",
    "B = copy(AUX);\n",
    "#S I S T E M A   L I N E A R   O R I G I N A L\n",
    "imprime_sistema_linear(A,B,5,3);\n",
    "A,B = eliminacaoGaussiana_TS(A,B);\n",
    "#S I S T E M A   L I N E A R   T R A N S F O R M A D O\n",
    "imprime_sistema_linear(A,B,5,3);\n",
    "X = eliminacaoGaussiana_TS(A,B);\n",
    "#V E T O R   S O L U Ç Ã O\n",
    "print(X,5,3);"
   ]
  },
  {
   "cell_type": "markdown",
   "metadata": {},
   "source": [
    "### Eliminação Gaussiana e Substituição Direta\n",
    "#### Autor: Pablo"
   ]
  },
  {
   "cell_type": "code",
   "execution_count": 29,
   "metadata": {},
   "outputs": [
    {
     "name": "stdout",
     "output_type": "stream",
     "text": [
      "   -0.923   -0.208    1.157    1.225    0.307   -0.029    1.050    1.135    0.350   -0.561     │    2.005\n",
      "   -0.266   -1.113    2.001    0.762   -0.027   -0.334    1.644   -0.272    0.203    0.596     │    0.091\n",
      "    1.346    0.850   -0.040   -0.697   -0.438   -0.367    0.025   -0.567   -0.365    1.094     │    0.694\n",
      "    0.305    0.350   -0.133   -0.193    0.494   -0.038    0.273   -0.619   -0.995    0.998     │    0.081\n",
      "   -0.119    0.227   -0.555   -0.900    0.259   -0.640    0.414    0.020   -1.074    0.215     │   -0.714\n",
      "   -0.941    0.632   -0.105    1.025    0.152   -1.268    0.321    0.208   -0.107    1.007     │    0.083\n",
      "    0.493    0.055   -1.441    0.686   -0.491    0.408    0.090    0.674    0.024    0.361     │   -0.372\n",
      "    1.117   -0.193    2.020    0.306    1.216   -1.497   -0.083   -0.700    0.236   -2.016     │   -1.066\n",
      "    1.806    0.195    0.013   -0.731   -0.726   -0.789   -1.113   -0.919   -2.350    1.633     │    0.789\n",
      "   -0.200    1.140    2.175    0.196   -0.603   -0.012   -0.274    3.167   -0.012   -0.125     │    0.372\n",
      "   -1.789    0.000    0.000    0.000    0.000    0.000    0.000    0.000    0.000    0.000     │    2.954\n",
      "  -25.866   -9.309    0.000    0.000    0.000    0.000    0.000    0.000    0.000    0.000     │    1.822\n",
      "    2.779    0.890    0.776    0.000    0.000    0.000    0.000    0.000    0.000    0.000     │    0.050\n",
      "    3.859   -0.117   -2.869    3.403    0.000    0.000    0.000    0.000    0.000    0.000     │   -1.835\n",
      "  -11.027    1.677   14.316   -9.403    2.106    0.000    0.000    0.000    0.000    0.000     │    6.866\n",
      "   -3.109    1.113    5.463   -1.127    1.258   -2.227    0.000    0.000    0.000    0.000     │    1.671\n",
      "    0.822   -0.158   -1.345    0.697   -0.160    0.062    0.079    0.000    0.000    0.000     │   -0.634\n",
      "    4.213  -15.982  -28.174   -2.537    9.468   -1.464    3.530  -44.833    0.000    0.000     │   -6.101\n",
      "   -0.817   15.114   28.485    1.831   -8.625   -0.949   -4.701   40.544   -2.513    0.000     │    5.665\n",
      "   -0.200    1.140    2.175    0.196   -0.603   -0.012   -0.274    3.167   -0.012   -0.125     │    0.372\n",
      "   -1.651\n",
      "    4.391\n",
      "    0.938\n",
      "    2.274\n",
      "   -5.101\n",
      "    2.019\n",
      "    1.955\n",
      "   -3.292\n",
      "   -3.037\n",
      "   -3.390\n"
     ]
    }
   ],
   "source": [
    "A = copy(TMP);\n",
    "B = copy(AUX);\n",
    "#S I S T E M A   L I N E A R   O R I G I N A L\n",
    "imprime_sistema_linear(A,B,5,3);\n",
    "A,B = eliminacaoGaussiana_TI(A,B);\n",
    "#S I S T E M A   L I N E A R   T R A N S F O R M A D O\n",
    "imprime_sistema_linear(A,B,5,3);\n",
    "X = substituicaoDireta_TI(A,B);\n",
    "#V E T O R   S O L U Ç Ã O\n",
    "imprimeVetorV(X,5,3);"
   ]
  },
  {
   "cell_type": "markdown",
   "metadata": {},
   "source": [
    "### Gauss Jordan\n",
    "#### Autor: Pablo"
   ]
  },
  {
   "cell_type": "code",
   "execution_count": 30,
   "metadata": {},
   "outputs": [
    {
     "name": "stdout",
     "output_type": "stream",
     "text": [
      "   -0.923   -0.208    1.157    1.225    0.307   -0.029    1.050    1.135    0.350   -0.561     │    2.005\n",
      "   -0.266   -1.113    2.001    0.762   -0.027   -0.334    1.644   -0.272    0.203    0.596     │    0.091\n",
      "    1.346    0.850   -0.040   -0.697   -0.438   -0.367    0.025   -0.567   -0.365    1.094     │    0.694\n",
      "    0.305    0.350   -0.133   -0.193    0.494   -0.038    0.273   -0.619   -0.995    0.998     │    0.081\n",
      "   -0.119    0.227   -0.555   -0.900    0.259   -0.640    0.414    0.020   -1.074    0.215     │   -0.714\n",
      "   -0.941    0.632   -0.105    1.025    0.152   -1.268    0.321    0.208   -0.107    1.007     │    0.083\n",
      "    0.493    0.055   -1.441    0.686   -0.491    0.408    0.090    0.674    0.024    0.361     │   -0.372\n",
      "    1.117   -0.193    2.020    0.306    1.216   -1.497   -0.083   -0.700    0.236   -2.016     │   -1.066\n",
      "    1.806    0.195    0.013   -0.731   -0.726   -0.789   -1.113   -0.919   -2.350    1.633     │    0.789\n",
      "   -0.200    1.140    2.175    0.196   -0.603   -0.012   -0.274    3.167   -0.012   -0.125     │    0.372\n",
      "   -2.173\n"
     ]
    }
   ],
   "source": [
    "A = copy(TMP);\n",
    "B = copy(AUX);\n",
    "#S I S T E M A   L I N E A R   O R I G I N A L\n",
    "imprime_sistema_linear(A,B,5,3);\n",
    "X,A,B = gauss_jordan(A,B);\n",
    "\n",
    "# #V E T O R   S O L U Ç Ã O\n",
    "imprimeVetorV(X,5,3);"
   ]
  },
  {
   "cell_type": "code",
   "execution_count": null,
   "metadata": {},
   "outputs": [],
   "source": []
  }
 ],
 "metadata": {
  "kernelspec": {
   "display_name": "Julia 1.4.2",
   "language": "julia",
   "name": "julia-1.4"
  },
  "language_info": {
   "file_extension": ".jl",
   "mimetype": "application/julia",
   "name": "julia",
   "version": "1.4.2"
  }
 },
 "nbformat": 4,
 "nbformat_minor": 4
}
